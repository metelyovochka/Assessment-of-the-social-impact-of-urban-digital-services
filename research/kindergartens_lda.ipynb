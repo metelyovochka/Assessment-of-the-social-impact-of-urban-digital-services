{
  "nbformat": 4,
  "nbformat_minor": 0,
  "metadata": {
    "colab": {
      "provenance": []
    },
    "kernelspec": {
      "name": "python3",
      "display_name": "Python 3"
    },
    "language_info": {
      "name": "python"
    }
  },
  "cells": [
    {
      "cell_type": "markdown",
      "source": [
        "# **Установка библиотек**"
      ],
      "metadata": {
        "id": "7H0Urodg-1W0"
      }
    },
    {
      "cell_type": "code",
      "source": [
        "pip install gensim pandas nltk pyldavis matplotlib"
      ],
      "metadata": {
        "colab": {
          "base_uri": "https://localhost:8080/"
        },
        "id": "R3ZUFvYkSUO1",
        "outputId": "c969e933-4639-4b66-863a-3b6fa79d7211"
      },
      "execution_count": null,
      "outputs": [
        {
          "output_type": "stream",
          "name": "stdout",
          "text": [
            "Requirement already satisfied: gensim in /usr/local/lib/python3.11/dist-packages (4.3.3)\n",
            "Requirement already satisfied: pandas in /usr/local/lib/python3.11/dist-packages (2.2.3)\n",
            "Requirement already satisfied: nltk in /usr/local/lib/python3.11/dist-packages (3.9.1)\n",
            "Requirement already satisfied: pyldavis in /usr/local/lib/python3.11/dist-packages (3.4.1)\n",
            "Requirement already satisfied: matplotlib in /usr/local/lib/python3.11/dist-packages (3.10.0)\n",
            "Requirement already satisfied: numpy<2.0,>=1.18.5 in /usr/local/lib/python3.11/dist-packages (from gensim) (1.23.5)\n",
            "Requirement already satisfied: scipy<1.14.0,>=1.7.0 in /usr/local/lib/python3.11/dist-packages (from gensim) (1.13.1)\n",
            "Requirement already satisfied: smart-open>=1.8.1 in /usr/local/lib/python3.11/dist-packages (from gensim) (7.1.0)\n",
            "Requirement already satisfied: python-dateutil>=2.8.2 in /usr/local/lib/python3.11/dist-packages (from pandas) (2.8.2)\n",
            "Requirement already satisfied: pytz>=2020.1 in /usr/local/lib/python3.11/dist-packages (from pandas) (2025.1)\n",
            "Requirement already satisfied: tzdata>=2022.7 in /usr/local/lib/python3.11/dist-packages (from pandas) (2025.1)\n",
            "Requirement already satisfied: click in /usr/local/lib/python3.11/dist-packages (from nltk) (8.1.8)\n",
            "Requirement already satisfied: joblib in /usr/local/lib/python3.11/dist-packages (from nltk) (1.4.2)\n",
            "Requirement already satisfied: regex>=2021.8.3 in /usr/local/lib/python3.11/dist-packages (from nltk) (2024.11.6)\n",
            "Requirement already satisfied: tqdm in /usr/local/lib/python3.11/dist-packages (from nltk) (4.67.1)\n",
            "Collecting numpy<2.0,>=1.18.5 (from gensim)\n",
            "  Using cached numpy-1.26.4-cp311-cp311-manylinux_2_17_x86_64.manylinux2014_x86_64.whl.metadata (61 kB)\n",
            "Requirement already satisfied: jinja2 in /usr/local/lib/python3.11/dist-packages (from pyldavis) (3.1.6)\n",
            "Requirement already satisfied: numexpr in /usr/local/lib/python3.11/dist-packages (from pyldavis) (2.10.2)\n",
            "Requirement already satisfied: funcy in /usr/local/lib/python3.11/dist-packages (from pyldavis) (2.0)\n",
            "Requirement already satisfied: scikit-learn>=1.0.0 in /usr/local/lib/python3.11/dist-packages (from pyldavis) (1.6.1)\n",
            "Requirement already satisfied: setuptools in /usr/local/lib/python3.11/dist-packages (from pyldavis) (75.1.0)\n",
            "Requirement already satisfied: contourpy>=1.0.1 in /usr/local/lib/python3.11/dist-packages (from matplotlib) (1.3.1)\n",
            "Requirement already satisfied: cycler>=0.10 in /usr/local/lib/python3.11/dist-packages (from matplotlib) (0.12.1)\n",
            "Requirement already satisfied: fonttools>=4.22.0 in /usr/local/lib/python3.11/dist-packages (from matplotlib) (4.56.0)\n",
            "Requirement already satisfied: kiwisolver>=1.3.1 in /usr/local/lib/python3.11/dist-packages (from matplotlib) (1.4.8)\n",
            "Requirement already satisfied: packaging>=20.0 in /usr/local/lib/python3.11/dist-packages (from matplotlib) (24.2)\n",
            "Requirement already satisfied: pillow>=8 in /usr/local/lib/python3.11/dist-packages (from matplotlib) (11.1.0)\n",
            "Requirement already satisfied: pyparsing>=2.3.1 in /usr/local/lib/python3.11/dist-packages (from matplotlib) (3.2.1)\n",
            "Requirement already satisfied: six>=1.5 in /usr/local/lib/python3.11/dist-packages (from python-dateutil>=2.8.2->pandas) (1.17.0)\n",
            "Requirement already satisfied: threadpoolctl>=3.1.0 in /usr/local/lib/python3.11/dist-packages (from scikit-learn>=1.0.0->pyldavis) (3.6.0)\n",
            "Requirement already satisfied: wrapt in /usr/local/lib/python3.11/dist-packages (from smart-open>=1.8.1->gensim) (1.17.2)\n",
            "Requirement already satisfied: MarkupSafe>=2.0 in /usr/local/lib/python3.11/dist-packages (from jinja2->pyldavis) (3.0.2)\n",
            "Using cached numpy-1.26.4-cp311-cp311-manylinux_2_17_x86_64.manylinux2014_x86_64.whl (18.3 MB)\n",
            "Installing collected packages: numpy\n",
            "  Attempting uninstall: numpy\n",
            "    Found existing installation: numpy 1.23.5\n",
            "    Uninstalling numpy-1.23.5:\n",
            "      Successfully uninstalled numpy-1.23.5\n",
            "\u001b[31mERROR: pip's dependency resolver does not currently take into account all the packages that are installed. This behaviour is the source of the following dependency conflicts.\n",
            "google-colab 1.0.0 requires pandas==2.2.2, but you have pandas 2.2.3 which is incompatible.\u001b[0m\u001b[31m\n",
            "\u001b[0mSuccessfully installed numpy-1.26.4\n"
          ]
        }
      ]
    },
    {
      "cell_type": "code",
      "source": [
        "pip install pymorphy3 pymorphy3-dicts-ru"
      ],
      "metadata": {
        "colab": {
          "base_uri": "https://localhost:8080/"
        },
        "id": "SzVQWH73R-ZC",
        "outputId": "a230fbcb-84f9-43cc-98a2-ad8db368549f"
      },
      "execution_count": null,
      "outputs": [
        {
          "output_type": "stream",
          "name": "stdout",
          "text": [
            "Collecting pymorphy3\n",
            "  Downloading pymorphy3-2.0.3-py3-none-any.whl.metadata (1.9 kB)\n",
            "Collecting pymorphy3-dicts-ru\n",
            "  Downloading pymorphy3_dicts_ru-2.4.417150.4580142-py2.py3-none-any.whl.metadata (2.0 kB)\n",
            "Collecting dawg2-python>=0.8.0 (from pymorphy3)\n",
            "  Downloading dawg2_python-0.9.0-py3-none-any.whl.metadata (7.5 kB)\n",
            "Downloading pymorphy3-2.0.3-py3-none-any.whl (53 kB)\n",
            "\u001b[2K   \u001b[90m━━━━━━━━━━━━━━━━━━━━━━━━━━━━━━━━━━━━━━━━\u001b[0m \u001b[32m53.8/53.8 kB\u001b[0m \u001b[31m4.4 MB/s\u001b[0m eta \u001b[36m0:00:00\u001b[0m\n",
            "\u001b[?25hDownloading pymorphy3_dicts_ru-2.4.417150.4580142-py2.py3-none-any.whl (8.4 MB)\n",
            "\u001b[2K   \u001b[90m━━━━━━━━━━━━━━━━━━━━━━━━━━━━━━━━━━━━━━━━\u001b[0m \u001b[32m8.4/8.4 MB\u001b[0m \u001b[31m28.7 MB/s\u001b[0m eta \u001b[36m0:00:00\u001b[0m\n",
            "\u001b[?25hDownloading dawg2_python-0.9.0-py3-none-any.whl (9.3 kB)\n",
            "Installing collected packages: pymorphy3-dicts-ru, dawg2-python, pymorphy3\n",
            "Successfully installed dawg2-python-0.9.0 pymorphy3-2.0.3 pymorphy3-dicts-ru-2.4.417150.4580142\n"
          ]
        }
      ]
    },
    {
      "cell_type": "code",
      "source": [
        "!pip uninstall numpy pandas gensim scikit-learn -y\n",
        "!pip install numpy==1.23.5 pandas gensim scikit-learn"
      ],
      "metadata": {
        "colab": {
          "base_uri": "https://localhost:8080/",
          "height": 998
        },
        "id": "Hgy4jfFzSmZV",
        "outputId": "3dd88e36-88ab-4c63-f80a-855fba1c75ce"
      },
      "execution_count": null,
      "outputs": [
        {
          "output_type": "stream",
          "name": "stdout",
          "text": [
            "Found existing installation: numpy 1.26.4\n",
            "Uninstalling numpy-1.26.4:\n",
            "  Successfully uninstalled numpy-1.26.4\n",
            "Found existing installation: pandas 2.2.3\n",
            "Uninstalling pandas-2.2.3:\n",
            "  Successfully uninstalled pandas-2.2.3\n",
            "Found existing installation: gensim 4.3.3\n",
            "Uninstalling gensim-4.3.3:\n",
            "  Successfully uninstalled gensim-4.3.3\n",
            "Found existing installation: scikit-learn 1.6.1\n",
            "Uninstalling scikit-learn-1.6.1:\n",
            "  Successfully uninstalled scikit-learn-1.6.1\n",
            "Collecting numpy==1.23.5\n",
            "  Using cached numpy-1.23.5-cp311-cp311-manylinux_2_17_x86_64.manylinux2014_x86_64.whl.metadata (2.3 kB)\n",
            "Collecting pandas\n",
            "  Using cached pandas-2.2.3-cp311-cp311-manylinux_2_17_x86_64.manylinux2014_x86_64.whl.metadata (89 kB)\n",
            "Collecting gensim\n",
            "  Using cached gensim-4.3.3-cp311-cp311-manylinux_2_17_x86_64.manylinux2014_x86_64.whl.metadata (8.1 kB)\n",
            "Collecting scikit-learn\n",
            "  Using cached scikit_learn-1.6.1-cp311-cp311-manylinux_2_17_x86_64.manylinux2014_x86_64.whl.metadata (18 kB)\n",
            "Requirement already satisfied: python-dateutil>=2.8.2 in /usr/local/lib/python3.11/dist-packages (from pandas) (2.8.2)\n",
            "Requirement already satisfied: pytz>=2020.1 in /usr/local/lib/python3.11/dist-packages (from pandas) (2025.1)\n",
            "Requirement already satisfied: tzdata>=2022.7 in /usr/local/lib/python3.11/dist-packages (from pandas) (2025.1)\n",
            "Requirement already satisfied: scipy<1.14.0,>=1.7.0 in /usr/local/lib/python3.11/dist-packages (from gensim) (1.13.1)\n",
            "Requirement already satisfied: smart-open>=1.8.1 in /usr/local/lib/python3.11/dist-packages (from gensim) (7.1.0)\n",
            "Requirement already satisfied: joblib>=1.2.0 in /usr/local/lib/python3.11/dist-packages (from scikit-learn) (1.4.2)\n",
            "Requirement already satisfied: threadpoolctl>=3.1.0 in /usr/local/lib/python3.11/dist-packages (from scikit-learn) (3.6.0)\n",
            "Requirement already satisfied: six>=1.5 in /usr/local/lib/python3.11/dist-packages (from python-dateutil>=2.8.2->pandas) (1.17.0)\n",
            "Requirement already satisfied: wrapt in /usr/local/lib/python3.11/dist-packages (from smart-open>=1.8.1->gensim) (1.17.2)\n",
            "Using cached numpy-1.23.5-cp311-cp311-manylinux_2_17_x86_64.manylinux2014_x86_64.whl (17.1 MB)\n",
            "Using cached pandas-2.2.3-cp311-cp311-manylinux_2_17_x86_64.manylinux2014_x86_64.whl (13.1 MB)\n",
            "Using cached gensim-4.3.3-cp311-cp311-manylinux_2_17_x86_64.manylinux2014_x86_64.whl (26.7 MB)\n",
            "Using cached scikit_learn-1.6.1-cp311-cp311-manylinux_2_17_x86_64.manylinux2014_x86_64.whl (13.5 MB)\n",
            "Installing collected packages: numpy, pandas, scikit-learn, gensim\n",
            "\u001b[31mERROR: pip's dependency resolver does not currently take into account all the packages that are installed. This behaviour is the source of the following dependency conflicts.\n",
            "pyldavis 3.4.1 requires numpy>=1.24.2, but you have numpy 1.23.5 which is incompatible.\n",
            "google-colab 1.0.0 requires pandas==2.2.2, but you have pandas 2.2.3 which is incompatible.\n",
            "jaxlib 0.5.1 requires numpy>=1.25, but you have numpy 1.23.5 which is incompatible.\n",
            "treescope 0.1.9 requires numpy>=1.25.2, but you have numpy 1.23.5 which is incompatible.\n",
            "albucore 0.0.23 requires numpy>=1.24.4, but you have numpy 1.23.5 which is incompatible.\n",
            "blosc2 3.2.0 requires numpy>=1.26, but you have numpy 1.23.5 which is incompatible.\n",
            "chex 0.1.89 requires numpy>=1.24.1, but you have numpy 1.23.5 which is incompatible.\n",
            "jax 0.5.2 requires numpy>=1.25, but you have numpy 1.23.5 which is incompatible.\n",
            "bigframes 1.41.0 requires numpy>=1.24.0, but you have numpy 1.23.5 which is incompatible.\n",
            "imbalanced-learn 0.13.0 requires numpy<3,>=1.24.3, but you have numpy 1.23.5 which is incompatible.\n",
            "xarray 2025.1.2 requires numpy>=1.24, but you have numpy 1.23.5 which is incompatible.\n",
            "albumentations 2.0.5 requires numpy>=1.24.4, but you have numpy 1.23.5 which is incompatible.\n",
            "scikit-image 0.25.2 requires numpy>=1.24, but you have numpy 1.23.5 which is incompatible.\n",
            "tensorflow 2.18.0 requires numpy<2.1.0,>=1.26.0, but you have numpy 1.23.5 which is incompatible.\n",
            "pymc 5.21.1 requires numpy>=1.25.0, but you have numpy 1.23.5 which is incompatible.\u001b[0m\u001b[31m\n",
            "\u001b[0mSuccessfully installed gensim-4.3.3 numpy-1.23.5 pandas-2.2.3 scikit-learn-1.6.1\n"
          ]
        },
        {
          "output_type": "display_data",
          "data": {
            "application/vnd.colab-display-data+json": {
              "pip_warning": {
                "packages": [
                  "gensim",
                  "numpy"
                ]
              },
              "id": "1f2e5684a2df42c184597a36ed751e1f"
            }
          },
          "metadata": {}
        }
      ]
    },
    {
      "cell_type": "code",
      "source": [
        "import pandas as pd\n",
        "import re\n",
        "import nltk\n",
        "from nltk.corpus import stopwords\n",
        "from nltk.tokenize import word_tokenize\n",
        "from nltk.stem import SnowballStemmer\n",
        "from pymorphy3 import MorphAnalyzer\n",
        "from gensim import corpora, models\n",
        "import matplotlib.pyplot as plt\n",
        "import pyLDAvis\n",
        "import pyLDAvis.gensim_models as gensimvis\n",
        "from string import punctuation"
      ],
      "metadata": {
        "id": "TgCtr3ylRULE"
      },
      "execution_count": null,
      "outputs": []
    },
    {
      "cell_type": "code",
      "source": [
        "nltk.download('stopwords')\n",
        "nltk.download('punkt')\n",
        "nltk.download('punkt_tab')\n",
        "nltk.download('perluniprops')\n",
        "nltk.download('nonbreaking_prefixes')"
      ],
      "metadata": {
        "colab": {
          "base_uri": "https://localhost:8080/"
        },
        "id": "7QycFZO_k6ay",
        "outputId": "aa979922-0931-40b5-8473-f734ddfc0f64"
      },
      "execution_count": null,
      "outputs": [
        {
          "output_type": "stream",
          "name": "stderr",
          "text": [
            "[nltk_data] Downloading package stopwords to /root/nltk_data...\n",
            "[nltk_data]   Package stopwords is already up-to-date!\n",
            "[nltk_data] Downloading package punkt to /root/nltk_data...\n",
            "[nltk_data]   Package punkt is already up-to-date!\n",
            "[nltk_data] Downloading package punkt_tab to /root/nltk_data...\n",
            "[nltk_data]   Package punkt_tab is already up-to-date!\n",
            "[nltk_data] Downloading package perluniprops to /root/nltk_data...\n",
            "[nltk_data]   Package perluniprops is already up-to-date!\n",
            "[nltk_data] Downloading package nonbreaking_prefixes to\n",
            "[nltk_data]     /root/nltk_data...\n",
            "[nltk_data]   Package nonbreaking_prefixes is already up-to-date!\n"
          ]
        },
        {
          "output_type": "execute_result",
          "data": {
            "text/plain": [
              "True"
            ]
          },
          "metadata": {},
          "execution_count": 175
        }
      ]
    },
    {
      "cell_type": "markdown",
      "source": [
        "**Загрузка данных**"
      ],
      "metadata": {
        "id": "DYAvobpq_E48"
      }
    },
    {
      "cell_type": "code",
      "source": [
        "# Загрузка данных из CSV файла\n",
        "df = pd.read_csv('/content/lda.csv', sep=';')\n",
        "\n",
        "df"
      ],
      "metadata": {
        "colab": {
          "base_uri": "https://localhost:8080/",
          "height": 332
        },
        "id": "U-ZXx1xyUjw6",
        "outputId": "6dcd4afe-026e-4f91-f308-7c973ab4fde8"
      },
      "execution_count": null,
      "outputs": [
        {
          "output_type": "execute_result",
          "data": {
            "text/plain": [
              "                                              ОТВЕТЫ\n",
              "0  Первое - это информативность: понимание, что е...\n",
              "1  Чего точно не хватает, так это совместного изу...\n",
              "2  Интерес родителей - о количестве свободных мес...\n",
              "3  Для начала - определить родившегося ребёнка в ...\n",
              "4  Родителей всегда интересует безопасность - нач...\n",
              "5  Если родитель хочет отправить ребёнка в детски...\n",
              "6  Есть место, где семья живёт, и есть сады, кото...\n",
              "7  Сервис должен информировать о возрастных групп...\n",
              "8  Лучше, чтобы у родителей была возможность конт..."
            ],
            "text/html": [
              "\n",
              "  <div id=\"df-7d1a7c7b-9638-4078-b380-d2ef098faaa9\" class=\"colab-df-container\">\n",
              "    <div>\n",
              "<style scoped>\n",
              "    .dataframe tbody tr th:only-of-type {\n",
              "        vertical-align: middle;\n",
              "    }\n",
              "\n",
              "    .dataframe tbody tr th {\n",
              "        vertical-align: top;\n",
              "    }\n",
              "\n",
              "    .dataframe thead th {\n",
              "        text-align: right;\n",
              "    }\n",
              "</style>\n",
              "<table border=\"1\" class=\"dataframe\">\n",
              "  <thead>\n",
              "    <tr style=\"text-align: right;\">\n",
              "      <th></th>\n",
              "      <th>ОТВЕТЫ</th>\n",
              "    </tr>\n",
              "  </thead>\n",
              "  <tbody>\n",
              "    <tr>\n",
              "      <th>0</th>\n",
              "      <td>Первое - это информативность: понимание, что е...</td>\n",
              "    </tr>\n",
              "    <tr>\n",
              "      <th>1</th>\n",
              "      <td>Чего точно не хватает, так это совместного изу...</td>\n",
              "    </tr>\n",
              "    <tr>\n",
              "      <th>2</th>\n",
              "      <td>Интерес родителей - о количестве свободных мес...</td>\n",
              "    </tr>\n",
              "    <tr>\n",
              "      <th>3</th>\n",
              "      <td>Для начала - определить родившегося ребёнка в ...</td>\n",
              "    </tr>\n",
              "    <tr>\n",
              "      <th>4</th>\n",
              "      <td>Родителей всегда интересует безопасность - нач...</td>\n",
              "    </tr>\n",
              "    <tr>\n",
              "      <th>5</th>\n",
              "      <td>Если родитель хочет отправить ребёнка в детски...</td>\n",
              "    </tr>\n",
              "    <tr>\n",
              "      <th>6</th>\n",
              "      <td>Есть место, где семья живёт, и есть сады, кото...</td>\n",
              "    </tr>\n",
              "    <tr>\n",
              "      <th>7</th>\n",
              "      <td>Сервис должен информировать о возрастных групп...</td>\n",
              "    </tr>\n",
              "    <tr>\n",
              "      <th>8</th>\n",
              "      <td>Лучше, чтобы у родителей была возможность конт...</td>\n",
              "    </tr>\n",
              "  </tbody>\n",
              "</table>\n",
              "</div>\n",
              "    <div class=\"colab-df-buttons\">\n",
              "\n",
              "  <div class=\"colab-df-container\">\n",
              "    <button class=\"colab-df-convert\" onclick=\"convertToInteractive('df-7d1a7c7b-9638-4078-b380-d2ef098faaa9')\"\n",
              "            title=\"Convert this dataframe to an interactive table.\"\n",
              "            style=\"display:none;\">\n",
              "\n",
              "  <svg xmlns=\"http://www.w3.org/2000/svg\" height=\"24px\" viewBox=\"0 -960 960 960\">\n",
              "    <path d=\"M120-120v-720h720v720H120Zm60-500h600v-160H180v160Zm220 220h160v-160H400v160Zm0 220h160v-160H400v160ZM180-400h160v-160H180v160Zm440 0h160v-160H620v160ZM180-180h160v-160H180v160Zm440 0h160v-160H620v160Z\"/>\n",
              "  </svg>\n",
              "    </button>\n",
              "\n",
              "  <style>\n",
              "    .colab-df-container {\n",
              "      display:flex;\n",
              "      gap: 12px;\n",
              "    }\n",
              "\n",
              "    .colab-df-convert {\n",
              "      background-color: #E8F0FE;\n",
              "      border: none;\n",
              "      border-radius: 50%;\n",
              "      cursor: pointer;\n",
              "      display: none;\n",
              "      fill: #1967D2;\n",
              "      height: 32px;\n",
              "      padding: 0 0 0 0;\n",
              "      width: 32px;\n",
              "    }\n",
              "\n",
              "    .colab-df-convert:hover {\n",
              "      background-color: #E2EBFA;\n",
              "      box-shadow: 0px 1px 2px rgba(60, 64, 67, 0.3), 0px 1px 3px 1px rgba(60, 64, 67, 0.15);\n",
              "      fill: #174EA6;\n",
              "    }\n",
              "\n",
              "    .colab-df-buttons div {\n",
              "      margin-bottom: 4px;\n",
              "    }\n",
              "\n",
              "    [theme=dark] .colab-df-convert {\n",
              "      background-color: #3B4455;\n",
              "      fill: #D2E3FC;\n",
              "    }\n",
              "\n",
              "    [theme=dark] .colab-df-convert:hover {\n",
              "      background-color: #434B5C;\n",
              "      box-shadow: 0px 1px 3px 1px rgba(0, 0, 0, 0.15);\n",
              "      filter: drop-shadow(0px 1px 2px rgba(0, 0, 0, 0.3));\n",
              "      fill: #FFFFFF;\n",
              "    }\n",
              "  </style>\n",
              "\n",
              "    <script>\n",
              "      const buttonEl =\n",
              "        document.querySelector('#df-7d1a7c7b-9638-4078-b380-d2ef098faaa9 button.colab-df-convert');\n",
              "      buttonEl.style.display =\n",
              "        google.colab.kernel.accessAllowed ? 'block' : 'none';\n",
              "\n",
              "      async function convertToInteractive(key) {\n",
              "        const element = document.querySelector('#df-7d1a7c7b-9638-4078-b380-d2ef098faaa9');\n",
              "        const dataTable =\n",
              "          await google.colab.kernel.invokeFunction('convertToInteractive',\n",
              "                                                    [key], {});\n",
              "        if (!dataTable) return;\n",
              "\n",
              "        const docLinkHtml = 'Like what you see? Visit the ' +\n",
              "          '<a target=\"_blank\" href=https://colab.research.google.com/notebooks/data_table.ipynb>data table notebook</a>'\n",
              "          + ' to learn more about interactive tables.';\n",
              "        element.innerHTML = '';\n",
              "        dataTable['output_type'] = 'display_data';\n",
              "        await google.colab.output.renderOutput(dataTable, element);\n",
              "        const docLink = document.createElement('div');\n",
              "        docLink.innerHTML = docLinkHtml;\n",
              "        element.appendChild(docLink);\n",
              "      }\n",
              "    </script>\n",
              "  </div>\n",
              "\n",
              "\n",
              "<div id=\"df-f02ab7cd-c065-4044-9279-967165bbbe4c\">\n",
              "  <button class=\"colab-df-quickchart\" onclick=\"quickchart('df-f02ab7cd-c065-4044-9279-967165bbbe4c')\"\n",
              "            title=\"Suggest charts\"\n",
              "            style=\"display:none;\">\n",
              "\n",
              "<svg xmlns=\"http://www.w3.org/2000/svg\" height=\"24px\"viewBox=\"0 0 24 24\"\n",
              "     width=\"24px\">\n",
              "    <g>\n",
              "        <path d=\"M19 3H5c-1.1 0-2 .9-2 2v14c0 1.1.9 2 2 2h14c1.1 0 2-.9 2-2V5c0-1.1-.9-2-2-2zM9 17H7v-7h2v7zm4 0h-2V7h2v10zm4 0h-2v-4h2v4z\"/>\n",
              "    </g>\n",
              "</svg>\n",
              "  </button>\n",
              "\n",
              "<style>\n",
              "  .colab-df-quickchart {\n",
              "      --bg-color: #E8F0FE;\n",
              "      --fill-color: #1967D2;\n",
              "      --hover-bg-color: #E2EBFA;\n",
              "      --hover-fill-color: #174EA6;\n",
              "      --disabled-fill-color: #AAA;\n",
              "      --disabled-bg-color: #DDD;\n",
              "  }\n",
              "\n",
              "  [theme=dark] .colab-df-quickchart {\n",
              "      --bg-color: #3B4455;\n",
              "      --fill-color: #D2E3FC;\n",
              "      --hover-bg-color: #434B5C;\n",
              "      --hover-fill-color: #FFFFFF;\n",
              "      --disabled-bg-color: #3B4455;\n",
              "      --disabled-fill-color: #666;\n",
              "  }\n",
              "\n",
              "  .colab-df-quickchart {\n",
              "    background-color: var(--bg-color);\n",
              "    border: none;\n",
              "    border-radius: 50%;\n",
              "    cursor: pointer;\n",
              "    display: none;\n",
              "    fill: var(--fill-color);\n",
              "    height: 32px;\n",
              "    padding: 0;\n",
              "    width: 32px;\n",
              "  }\n",
              "\n",
              "  .colab-df-quickchart:hover {\n",
              "    background-color: var(--hover-bg-color);\n",
              "    box-shadow: 0 1px 2px rgba(60, 64, 67, 0.3), 0 1px 3px 1px rgba(60, 64, 67, 0.15);\n",
              "    fill: var(--button-hover-fill-color);\n",
              "  }\n",
              "\n",
              "  .colab-df-quickchart-complete:disabled,\n",
              "  .colab-df-quickchart-complete:disabled:hover {\n",
              "    background-color: var(--disabled-bg-color);\n",
              "    fill: var(--disabled-fill-color);\n",
              "    box-shadow: none;\n",
              "  }\n",
              "\n",
              "  .colab-df-spinner {\n",
              "    border: 2px solid var(--fill-color);\n",
              "    border-color: transparent;\n",
              "    border-bottom-color: var(--fill-color);\n",
              "    animation:\n",
              "      spin 1s steps(1) infinite;\n",
              "  }\n",
              "\n",
              "  @keyframes spin {\n",
              "    0% {\n",
              "      border-color: transparent;\n",
              "      border-bottom-color: var(--fill-color);\n",
              "      border-left-color: var(--fill-color);\n",
              "    }\n",
              "    20% {\n",
              "      border-color: transparent;\n",
              "      border-left-color: var(--fill-color);\n",
              "      border-top-color: var(--fill-color);\n",
              "    }\n",
              "    30% {\n",
              "      border-color: transparent;\n",
              "      border-left-color: var(--fill-color);\n",
              "      border-top-color: var(--fill-color);\n",
              "      border-right-color: var(--fill-color);\n",
              "    }\n",
              "    40% {\n",
              "      border-color: transparent;\n",
              "      border-right-color: var(--fill-color);\n",
              "      border-top-color: var(--fill-color);\n",
              "    }\n",
              "    60% {\n",
              "      border-color: transparent;\n",
              "      border-right-color: var(--fill-color);\n",
              "    }\n",
              "    80% {\n",
              "      border-color: transparent;\n",
              "      border-right-color: var(--fill-color);\n",
              "      border-bottom-color: var(--fill-color);\n",
              "    }\n",
              "    90% {\n",
              "      border-color: transparent;\n",
              "      border-bottom-color: var(--fill-color);\n",
              "    }\n",
              "  }\n",
              "</style>\n",
              "\n",
              "  <script>\n",
              "    async function quickchart(key) {\n",
              "      const quickchartButtonEl =\n",
              "        document.querySelector('#' + key + ' button');\n",
              "      quickchartButtonEl.disabled = true;  // To prevent multiple clicks.\n",
              "      quickchartButtonEl.classList.add('colab-df-spinner');\n",
              "      try {\n",
              "        const charts = await google.colab.kernel.invokeFunction(\n",
              "            'suggestCharts', [key], {});\n",
              "      } catch (error) {\n",
              "        console.error('Error during call to suggestCharts:', error);\n",
              "      }\n",
              "      quickchartButtonEl.classList.remove('colab-df-spinner');\n",
              "      quickchartButtonEl.classList.add('colab-df-quickchart-complete');\n",
              "    }\n",
              "    (() => {\n",
              "      let quickchartButtonEl =\n",
              "        document.querySelector('#df-f02ab7cd-c065-4044-9279-967165bbbe4c button');\n",
              "      quickchartButtonEl.style.display =\n",
              "        google.colab.kernel.accessAllowed ? 'block' : 'none';\n",
              "    })();\n",
              "  </script>\n",
              "</div>\n",
              "    </div>\n",
              "  </div>\n"
            ],
            "application/vnd.google.colaboratory.intrinsic+json": {
              "type": "dataframe",
              "variable_name": "df",
              "summary": "{\n  \"name\": \"df\",\n  \"rows\": 9,\n  \"fields\": [\n    {\n      \"column\": \"\\u041e\\u0422\\u0412\\u0415\\u0422\\u042b\",\n      \"properties\": {\n        \"dtype\": \"string\",\n        \"num_unique_values\": 9,\n        \"samples\": [\n          \"\\u0421\\u0435\\u0440\\u0432\\u0438\\u0441 \\u0434\\u043e\\u043b\\u0436\\u0435\\u043d \\u0438\\u043d\\u0444\\u043e\\u0440\\u043c\\u0438\\u0440\\u043e\\u0432\\u0430\\u0442\\u044c \\u043e \\u0432\\u043e\\u0437\\u0440\\u0430\\u0441\\u0442\\u043d\\u044b\\u0445 \\u0433\\u0440\\u0443\\u043f\\u043f\\u0430\\u0445 \\u0438 \\u0432\\u0430\\u043a\\u0430\\u043d\\u0442\\u043d\\u044b\\u0445 \\u043c\\u0435\\u0441\\u0442\\u0430\\u0445, \\u0440\\u0430\\u0441\\u043f\\u043e\\u0440\\u044f\\u0434\\u043a\\u0435 \\u0434\\u043d\\u044f \\u0432 \\u043a\\u0430\\u043a\\u043e\\u0439-\\u0442\\u043e \\u0438\\u043d\\u0442\\u0435\\u0440\\u0430\\u043a\\u0442\\u0438\\u0432\\u043d\\u043e\\u0439 \\u0444\\u043e\\u0440\\u043c\\u0435 (\\u0432\\u043e \\u0441\\u043a\\u043e\\u043b\\u044c\\u043a\\u043e \\u043f\\u0440\\u0438\\u0445\\u043e\\u0434\\u0438\\u043c, \\u0432\\u043e \\u0441\\u043a\\u043e\\u043b\\u044c\\u043a\\u043e \\u0443\\u0445\\u043e\\u0434\\u0438\\u043c \\u0438 \\u0442. \\u0434.), \\u0441\\u043e\\u0431\\u044b\\u0442\\u0438\\u044f\\u0445 \\u0434\\u0435\\u0442\\u0441\\u043a\\u043e\\u0433\\u043e \\u0441\\u0430\\u0434\\u0430. \\u042d\\u0442\\u043e \\u043d\\u0435 \\u0431\\u0443\\u0434\\u0435\\u0442 \\u043d\\u0430\\u0433\\u0440\\u0443\\u0436\\u0430\\u0442\\u044c \\u043e\\u0431\\u0440\\u0430\\u0437\\u043e\\u0432\\u0430\\u0442\\u0435\\u043b\\u044c\\u043d\\u043e\\u0435 \\u0443\\u0447\\u0440\\u0435\\u0436\\u0434\\u0435\\u043d\\u0438\\u0435, \\u043f\\u043e\\u0442\\u043e\\u043c\\u0443 \\u0447\\u0442\\u043e \\u043c\\u044b \\u0438 \\u0442\\u0430\\u043a \\u043f\\u0440\\u0435\\u0434\\u043e\\u0441\\u0442\\u0430\\u0432\\u043b\\u044f\\u0435\\u043c \\u044d\\u0442\\u0443 \\u0438\\u043d\\u0444\\u043e\\u0440\\u043c\\u0430\\u0446\\u0438\\u044e. \\u0421\\u0435\\u0440\\u0432\\u0438\\u0441 \\u043c\\u043e\\u0436\\u0435\\u0442 \\u0431\\u044b\\u0442\\u044c \\u0441\\u043e\\u0435\\u0434\\u0438\\u043d\\u0451\\u043d \\u0441 \\u0433\\u043e\\u0441\\u043f\\u0430\\u0431\\u043b\\u0438\\u043a\\u043e\\u043c \\u0434\\u0435\\u0442\\u0441\\u043a\\u043e\\u0433\\u043e \\u0441\\u0430\\u0434\\u0430. \\u0422\\u0430\\u043a\\u0436\\u0435 \\u0441\\u0435\\u0440\\u0432\\u0438\\u0441 \\u0434\\u043e\\u043b\\u0436\\u0435\\u043d \\u043f\\u043e\\u0437\\u0432\\u043e\\u043b\\u044f\\u0442\\u044c \\u0440\\u043e\\u0434\\u0438\\u0442\\u0435\\u043b\\u044f\\u043c \\u043e\\u0441\\u0442\\u0430\\u0432\\u043b\\u044f\\u0442\\u044c \\u043e\\u0431\\u0440\\u0430\\u0442\\u043d\\u0443\\u044e \\u0441\\u0432\\u044f\\u0437\\u044c \\u043d\\u0430\\u043f\\u0440\\u044f\\u043c\\u0443\\u044e \\u0434\\u0435\\u0442\\u0441\\u043a\\u043e\\u043c\\u0443 \\u0441\\u0430\\u0434\\u0443, \\u043c\\u0438\\u043d\\u0443\\u044f \\u0446\\u0438\\u0444\\u0440\\u043e\\u0432\\u0443\\u044e \\u043f\\u043e\\u0434\\u043f\\u0438\\u0441\\u044c \\u0438 \\u0434\\u0440\\u0443\\u0433\\u0438\\u0435 \\u043f\\u0440\\u043e\\u0446\\u0435\\u0434\\u0443\\u0440\\u044b, \\u043a\\u043e\\u0442\\u043e\\u0440\\u044b\\u0435 \\u0435\\u0441\\u0442\\u044c \\u043d\\u0430 \\u041f\\u043e\\u0440\\u0442\\u0430\\u043b\\u0435 \\u0413\\u043e\\u0441\\u0443\\u0441\\u043b\\u0443\\u0433. \\u041f\\u0443\\u0441\\u0442\\u044c \\u043e\\u0431\\u0440\\u0430\\u0449\\u0435\\u043d\\u0438\\u0435 \\u0431\\u0443\\u0434\\u0435\\u0442 \\u0445\\u043e\\u0442\\u044c \\u043e\\u0442 \\u0430\\u043d\\u043e\\u043d\\u0438\\u043c\\u0430 - \\u044d\\u0442\\u043e \\u0445\\u043e\\u0442\\u044f \\u0431\\u044b \\u0431\\u0443\\u0434\\u0435\\u0442 \\u0436\\u0438\\u0432\\u043e\\u0435 \\u043e\\u0431\\u0449\\u0435\\u043d\\u0438\\u0435.\",\n          \"\\u0427\\u0435\\u0433\\u043e \\u0442\\u043e\\u0447\\u043d\\u043e \\u043d\\u0435 \\u0445\\u0432\\u0430\\u0442\\u0430\\u0435\\u0442, \\u0442\\u0430\\u043a \\u044d\\u0442\\u043e \\u0441\\u043e\\u0432\\u043c\\u0435\\u0441\\u0442\\u043d\\u043e\\u0433\\u043e \\u0438\\u0437\\u0443\\u0447\\u0435\\u043d\\u0438\\u044f \\u0440\\u0435\\u0431\\u0451\\u043d\\u043a\\u043e\\u043c \\u0438 \\u0440\\u043e\\u0434\\u0438\\u0442\\u0435\\u043b\\u0435\\u043c \\u043a\\u0430\\u043a\\u043e\\u0439-\\u0442\\u043e \\u0434\\u0438\\u0441\\u0446\\u0438\\u043f\\u043b\\u0438\\u043d\\u044b. \\u0420\\u043e\\u0434\\u0438\\u0442\\u0435\\u043b\\u044f\\u043c \\u043f\\u043e\\u043a\\u0430\\u0437\\u044b\\u0432\\u0430\\u044e\\u0442 \\u0443\\u0436\\u0435 \\u0440\\u0435\\u0437\\u0443\\u043b\\u044c\\u0442\\u0430\\u0442 \\u043e\\u0431\\u0443\\u0447\\u0435\\u043d\\u0438\\u044f \\u0440\\u0435\\u0431\\u0451\\u043d\\u043a\\u0430 - \\u043f\\u043e\\u0434\\u0435\\u043b\\u043a\\u0443, \\u0440\\u0438\\u0441\\u0443\\u043d\\u043e\\u043a, \\u0447\\u0442\\u043e-\\u0442\\u043e \\u0435\\u0449\\u0451. \\u0412 \\u0441\\u0442\\u0440\\u0430\\u043d\\u0435 \\u043e\\u0442\\u0441\\u0443\\u0442\\u0441\\u0442\\u0432\\u0443\\u0435\\u0442 \\u043f\\u0440\\u0430\\u043a\\u0442\\u0438\\u043a\\u0430 \\u0432\\u043e\\u0432\\u043b\\u0435\\u0447\\u0435\\u043d\\u0438\\u044f \\u0440\\u043e\\u0434\\u0438\\u0442\\u0435\\u043b\\u044f \\u0432 \\u043f\\u0440\\u043e\\u0446\\u0435\\u0441\\u0441 \\u0434\\u043e\\u0448\\u043a\\u043e\\u043b\\u044c\\u043d\\u043e\\u0433\\u043e \\u043e\\u0431\\u0440\\u0430\\u0437\\u043e\\u0432\\u0430\\u043d\\u0438\\u044f.\",\n          \"\\u0415\\u0441\\u043b\\u0438 \\u0440\\u043e\\u0434\\u0438\\u0442\\u0435\\u043b\\u044c \\u0445\\u043e\\u0447\\u0435\\u0442 \\u043e\\u0442\\u043f\\u0440\\u0430\\u0432\\u0438\\u0442\\u044c \\u0440\\u0435\\u0431\\u0451\\u043d\\u043a\\u0430 \\u0432 \\u0434\\u0435\\u0442\\u0441\\u043a\\u0438\\u0439 \\u0441\\u0430\\u0434, \\u0442\\u043e \\u043d\\u0435\\u043e\\u0431\\u0445\\u043e\\u0434\\u0438\\u043c \\u043d\\u0435\\u043a\\u0438\\u0439 \\u043a\\u043e\\u043d\\u0446\\u0435\\u043d\\u0442\\u0440\\u0430\\u0442\\u043e\\u0440, \\u0433\\u0434\\u0435 \\u0440\\u043e\\u0434\\u0438\\u0442\\u0435\\u043b\\u044c \\u0432\\u0438\\u0434\\u0435\\u043b \\u0431\\u044b \\u0441\\u0432\\u043e\\u0431\\u043e\\u0434\\u043d\\u044b\\u0435 \\u043c\\u0435\\u0441\\u0442\\u0430 \\u0432 \\u0434\\u0435\\u0442\\u0441\\u043a\\u0438\\u0445 \\u0441\\u0430\\u0434\\u0430\\u0445, \\u0441\\u043f\\u0435\\u0446\\u0438\\u0444\\u0438\\u043a\\u0443 \\u0433\\u0440\\u0443\\u043f\\u043f \\u0438 \\u0434\\u0435\\u0442\\u0441\\u043a\\u0438\\u0445 \\u0441\\u0430\\u0434\\u043e\\u0432 (\\u043b\\u043e\\u0433\\u043e\\u043f\\u0435\\u0434\\u0438\\u0447\\u0435\\u0441\\u043a\\u0438\\u0435, \\u0441 \\u0431\\u0430\\u0441\\u0441\\u0435\\u0439\\u043d\\u043e\\u043c \\u0438 \\u0442. \\u0434.). \\u041f\\u0440\\u0438\\u0447\\u0451\\u043c \\u043d\\u0443\\u0436\\u043d\\u043e \\u0432\\u0438\\u0434\\u0435\\u0442\\u044c \\u044d\\u0442\\u043e \\u043e\\u0431\\u044f\\u0437\\u0430\\u0442\\u0435\\u043b\\u044c\\u043d\\u043e \\u043d\\u0435 \\u0434\\u043e\\u043c\\u0430, \\u0430, \\u043d\\u0430\\u043f\\u0440\\u0438\\u043c\\u0435\\u0440, \\u0443 \\u0440\\u0430\\u0431\\u043e\\u0442\\u044b \\u0438\\u043b\\u0438 \\u0434\\u0440\\u0443\\u0433\\u043e\\u0439 \\u0442\\u043e\\u0447\\u043a\\u0438 \\u043f\\u0440\\u0438\\u0442\\u044f\\u0436\\u0435\\u043d\\u0438\\u044f, \\u0442\\u043e \\u0435\\u0441\\u0442\\u044c \\u043d\\u0430 \\u0432\\u0435\\u0441\\u044c \\u0433\\u043e\\u0440\\u043e\\u0434. \\u041f\\u043e\\u043a\\u0430\\u0437\\u044b\\u0432\\u0430\\u0442\\u044c \\u044d\\u0442\\u043e \\u043c\\u043e\\u0436\\u043d\\u043e \\u0432 \\u0444\\u043e\\u0440\\u043c\\u0430\\u0442\\u0435 \\u043a\\u0430\\u0440\\u0442\\u044b \\u0438\\u043b\\u0438 \\u043a\\u0430\\u043a\\u0438\\u043c-\\u0442\\u043e \\u0434\\u0440\\u0443\\u0433\\u0438\\u043c \\u043e\\u0431\\u0440\\u0430\\u0437\\u043e\\u043c. \\u0422\\u0430\\u043a \\u0440\\u043e\\u0434\\u0438\\u0442\\u0435\\u043b\\u044c \\u0441\\u043c\\u043e\\u0436\\u0435\\u0442 \\u043f\\u043e\\u043d\\u044f\\u0442\\u044c, \\u043a\\u0443\\u0434\\u0430 \\u043c\\u043e\\u0436\\u043d\\u043e \\u043f\\u043e\\u0434\\u0430\\u0442\\u044c \\u0437\\u0430\\u044f\\u0432\\u043b\\u0435\\u043d\\u0438\\u0435 \\u043d\\u0430 \\u043f\\u043e\\u0441\\u0442\\u0443\\u043f\\u043b\\u0435\\u043d\\u0438\\u0435 \\u0432 \\u0434\\u0435\\u0442\\u0441\\u043a\\u0438\\u0439 \\u0441\\u0430\\u0434, \\u0442\\u0430\\u043a \\u043a\\u0430\\u043a \\u043a\\u043e\\u043b\\u0438\\u0447\\u0435\\u0441\\u0442\\u0432\\u043e \\u0437\\u0430\\u044f\\u0432\\u043b\\u0435\\u043d\\u0438\\u0439 \\u0432 \\u0446\\u0435\\u043b\\u043e\\u043c \\u043e\\u0433\\u0440\\u0430\\u043d\\u0438\\u0447\\u0435\\u043d\\u043e. \\u0412 \\u0446\\u0435\\u043b\\u043e\\u043c, \\u043d\\u0443\\u0436\\u043d\\u043e \\u043f\\u043e\\u043d\\u0438\\u043c\\u0430\\u0442\\u044c, \\u0433\\u0434\\u0435 \\u0434\\u0435\\u0442\\u0441\\u043a\\u0438\\u0439 \\u0441\\u0430\\u0434 \\u043d\\u0430\\u0445\\u043e\\u0434\\u0438\\u0442\\u0441\\u044f, \\u043c\\u043e\\u0436\\u0435\\u0442 \\u043b\\u0438 \\u043f\\u0440\\u0438\\u043d\\u044f\\u0442\\u044c \\u0440\\u0435\\u0431\\u0451\\u043d\\u043a\\u0430 \\u043d\\u0430\\u0448\\u0435\\u0433\\u043e \\u0432\\u043e\\u0437\\u0440\\u0430\\u0441\\u0442\\u0430 \\u0438 \\u0435\\u0441\\u0442\\u044c \\u043b\\u0438 \\u0432\\u043e\\u043e\\u0431\\u0449\\u0435 \\u0432\\u0430\\u043a\\u0430\\u043d\\u0442\\u043d\\u044b\\u0435 \\u043c\\u0435\\u0441\\u0442\\u0430 \\u0438 \\u043a\\u0430\\u043a\\u0430\\u044f \\u0443 \\u043d\\u0435\\u0433\\u043e \\u0441\\u043f\\u0435\\u0446\\u0438\\u0444\\u0438\\u043a\\u0430.\"\n        ],\n        \"semantic_type\": \"\",\n        \"description\": \"\"\n      }\n    }\n  ]\n}"
            }
          },
          "metadata": {},
          "execution_count": 176
        }
      ]
    },
    {
      "cell_type": "markdown",
      "source": [
        "# **Предобработка данных**"
      ],
      "metadata": {
        "id": "4EmfFcjR_IY5"
      }
    },
    {
      "cell_type": "code",
      "source": [
        "one_string = ' '.join(df.apply(lambda row: ' '.join(row.values.astype(str)), axis=1))\n",
        "\n",
        "print(one_string)"
      ],
      "metadata": {
        "colab": {
          "base_uri": "https://localhost:8080/"
        },
        "id": "uZNqPpPiZufF",
        "outputId": "1766fb21-ce6f-46b4-9f78-9df8730066bd"
      },
      "execution_count": null,
      "outputs": [
        {
          "output_type": "stream",
          "name": "stdout",
          "text": [
            "Первое - это информативность: понимание, что есть рядом, что может помочь ребёнку. Информации много, но поиск сведений о графике, дисциплинах и т. д. нужно постоянно осуществлять самому и с нуля. Также внутри детских садов много своих курсов. Нужен сервис, который будет работать в формате одного окна и предоставлять информацию об учреждениях, находящихся в пешей доступности (500, 600, 700 метров). Некоторые родители готовы оплачивать коммерческие детские сады - о них информация так же должна быть. У каждой группы в детском саду есть самоорганизованный Telegram-канал. Был бы полезен сервис, который позволял бы осуществлять взаимодействие подобного характера - разделение по группам, возможность обратиться к заведующему. С одной стороны, этого все боятся - обращений может быть много. С другой стороны, заведующий может таким образом отследить «боли» родителей и систематизировать их. Чего точно не хватает, так это совместного изучения ребёнком и родителем какой-то дисциплины. Родителям показывают уже результат обучения ребёнка - поделку, рисунок, что-то ещё. В стране отсутствует практика вовлечения родителя в процесс дошкольного образования. Интерес родителей - о количестве свободных мест в детских садах в ближайших к дому районах. Особенно актуально для семей с несколькими детьми, где один ребёнок уже ходит в детский сад по месту жительства, а второму может не хватить места в этом же учреждении. Также, скорее всего, родителей интересуют отзывы о персонале, о развивающих программах детских садов. Для начала - определить родившегося ребёнка в детский сад, поэтому родитель должен быть информирован о процессе зачисления в детский сад - комплектования, как мы говорим (как попадают в детский сад, какие нужны документы, куда бежать, в какой момент бежать - прямо сразу, как мне его принесли в роддоме или можно всё-таки немножко подождать, что по ходу будет происходить). Но судя по обращению родителей, если раньше родители были плохо информированы, то сейчас, общаясь с родителями дошкольников или будущих дошкольников - среди друзей, знакомых, понимаю, что у большинства родителей информация есть. Дальше начинаются нюансы - ребёнок может быть с ограниченными возможностями здоровья, может не иметь гражданства России и т. д. - которые отягощают жизненную ситуацию. Предположим, что нет никакой ЭГС. Тогда обязательно должны быть сервисы, которые легко давали бы информацию и, по возможности, вели бы к этому шагу. То есть не просто рассказывали: «Для того, чтобы устроить ребёнка в детский сад, нужно зайти на такой-то портал, подать такое-то заявление» - да, это всё должно быть рассказано, но если услуга предоставляется в электронном виде, то всё должно закончиться ссылками на подачу заявления. Когда они окажутся на Портале Госуслуг, то там им уже более подробно и конкретно расскажут, какие нужны документы, нужно ли обязательно на портале подавать заявление или можно ножками пойти в МФЦ - то есть более «узкий» процесс. Второй момент. В отличие от зачисления в первый класс, где есть некое обязательство города, что ребёнок имеет право на место в школе, к которой он прикреплён по адресу проживания, то с детскими садами такой истории нет. Мы понимаем, что, скорее всего, родитель хочет, чтобы его ребёнок был зачислен в ближайший детский сад. Но в то же время детские сады - это такие же образовательные организации, в которых реализуются разные образовательные программы. Есть детские сады с какими-то «добавками», помимо обязательных регламентированных услуг, и, возможно, какому-то родителю было бы интересно отдать ребёнка не в ближайший детский сад, а в тот, что подальше, но в котором есть что-то для него интересное. В каких-то детских садах есть ясли, в каких-то - нет. Эту информацию тоже хотелось бы оперативно получать. То есть родитель должен быть информирован об образовательном процессе в детских садах Санкт-Петербурга. Может, такая опция и не будет массово востребована, но почему бы и нет?  Родителей всегда интересует безопасность - начиная с входа на территорию и заканчивая прибитыми к стенам шкафами. Второе - это компетенции персонала, подтверждённые надёжными проверенными отзывами, чтобы родители могли задать свои критерии для фильтрации либо посмотреть объективные критерии, предлагаемые сервисом. Также важна доступность учреждений (шаговая, транспортная). Возможно, визуализация - красочные картинки, информация о конкурсах среди учебных заведений или внутри конкретного детского сада. Может быть представлена тематическая направленность, образовательный уклон детского сада. Если родитель хочет отправить ребёнка в детский сад, то необходим некий концентратор, где родитель видел бы свободные места в детских садах, специфику групп и детских садов (логопедические, с бассейном и т. д.). Причём нужно видеть это обязательно не дома, а, например, у работы или другой точки притяжения, то есть на весь город. Показывать это можно в формате карты или каким-то другим образом. Так родитель сможет понять, куда можно подать заявление на поступление в детский сад, так как количество заявлений в целом ограничено. В целом, нужно понимать, где детский сад находится, может ли принять ребёнка нашего возраста и есть ли вообще вакантные места и какая у него специфика. Есть место, где семья живёт, и есть сады, которые находятся на каком-то расстоянии от этого места. У разных родителей разные возможности по логистике. Некоторые родители стараются устроить ребёнка в детский сад рядом с работой, некоторые - рядом с домом. Нужен сервис, который может по локации подсказывать удобный садик родителям, без приписки к месту жительства. Важно понимать, есть ли в детском саду свободные места. Можно реализовать возможность подавать заявления в три детских сада по приоритетности. Сервис должен информировать о возрастных группах и вакантных местах, распорядке дня в какой-то интерактивной форме (во сколько приходим, во сколько уходим и т. д.), событиях детского сада. Это не будет нагружать образовательное учреждение, потому что мы и так предоставляем эту информацию. Сервис может быть соединён с госпабликом детского сада. Также сервис должен позволять родителям оставлять обратную связь напрямую детскому саду, минуя цифровую подпись и другие процедуры, которые есть на Портале Госуслуг. Пусть обращение будет хоть от анонима - это хотя бы будет живое общение. Лучше, чтобы у родителей была возможность контроля - в формате видеотрансляции из детского сада. Было бы удобно, если бы фото детей, которые делают воспитатели, публиковались для родителей на каком-то постоянном ресурсе.\n"
          ]
        }
      ]
    },
    {
      "cell_type": "code",
      "source": [
        "#Токенизация текста\n",
        "tokens = word_tokenize(one_string)\n",
        "print(tokens)"
      ],
      "metadata": {
        "colab": {
          "base_uri": "https://localhost:8080/"
        },
        "id": "zp8dn7vwZxmB",
        "outputId": "1cb66ec3-fe91-4ec6-bfdf-c8948a7a5188"
      },
      "execution_count": null,
      "outputs": [
        {
          "output_type": "stream",
          "name": "stdout",
          "text": [
            "['Первое', '-', 'это', 'информативность', ':', 'понимание', ',', 'что', 'есть', 'рядом', ',', 'что', 'может', 'помочь', 'ребёнку', '.', 'Информации', 'много', ',', 'но', 'поиск', 'сведений', 'о', 'графике', ',', 'дисциплинах', 'и', 'т.', 'д.', 'нужно', 'постоянно', 'осуществлять', 'самому', 'и', 'с', 'нуля', '.', 'Также', 'внутри', 'детских', 'садов', 'много', 'своих', 'курсов', '.', 'Нужен', 'сервис', ',', 'который', 'будет', 'работать', 'в', 'формате', 'одного', 'окна', 'и', 'предоставлять', 'информацию', 'об', 'учреждениях', ',', 'находящихся', 'в', 'пешей', 'доступности', '(', '500', ',', '600', ',', '700', 'метров', ')', '.', 'Некоторые', 'родители', 'готовы', 'оплачивать', 'коммерческие', 'детские', 'сады', '-', 'о', 'них', 'информация', 'так', 'же', 'должна', 'быть', '.', 'У', 'каждой', 'группы', 'в', 'детском', 'саду', 'есть', 'самоорганизованный', 'Telegram-канал', '.', 'Был', 'бы', 'полезен', 'сервис', ',', 'который', 'позволял', 'бы', 'осуществлять', 'взаимодействие', 'подобного', 'характера', '-', 'разделение', 'по', 'группам', ',', 'возможность', 'обратиться', 'к', 'заведующему', '.', 'С', 'одной', 'стороны', ',', 'этого', 'все', 'боятся', '-', 'обращений', 'может', 'быть', 'много', '.', 'С', 'другой', 'стороны', ',', 'заведующий', 'может', 'таким', 'образом', 'отследить', '«', 'боли', '»', 'родителей', 'и', 'систематизировать', 'их', '.', 'Чего', 'точно', 'не', 'хватает', ',', 'так', 'это', 'совместного', 'изучения', 'ребёнком', 'и', 'родителем', 'какой-то', 'дисциплины', '.', 'Родителям', 'показывают', 'уже', 'результат', 'обучения', 'ребёнка', '-', 'поделку', ',', 'рисунок', ',', 'что-то', 'ещё', '.', 'В', 'стране', 'отсутствует', 'практика', 'вовлечения', 'родителя', 'в', 'процесс', 'дошкольного', 'образования', '.', 'Интерес', 'родителей', '-', 'о', 'количестве', 'свободных', 'мест', 'в', 'детских', 'садах', 'в', 'ближайших', 'к', 'дому', 'районах', '.', 'Особенно', 'актуально', 'для', 'семей', 'с', 'несколькими', 'детьми', ',', 'где', 'один', 'ребёнок', 'уже', 'ходит', 'в', 'детский', 'сад', 'по', 'месту', 'жительства', ',', 'а', 'второму', 'может', 'не', 'хватить', 'места', 'в', 'этом', 'же', 'учреждении', '.', 'Также', ',', 'скорее', 'всего', ',', 'родителей', 'интересуют', 'отзывы', 'о', 'персонале', ',', 'о', 'развивающих', 'программах', 'детских', 'садов', '.', 'Для', 'начала', '-', 'определить', 'родившегося', 'ребёнка', 'в', 'детский', 'сад', ',', 'поэтому', 'родитель', 'должен', 'быть', 'информирован', 'о', 'процессе', 'зачисления', 'в', 'детский', 'сад', '-', 'комплектования', ',', 'как', 'мы', 'говорим', '(', 'как', 'попадают', 'в', 'детский', 'сад', ',', 'какие', 'нужны', 'документы', ',', 'куда', 'бежать', ',', 'в', 'какой', 'момент', 'бежать', '-', 'прямо', 'сразу', ',', 'как', 'мне', 'его', 'принесли', 'в', 'роддоме', 'или', 'можно', 'всё-таки', 'немножко', 'подождать', ',', 'что', 'по', 'ходу', 'будет', 'происходить', ')', '.', 'Но', 'судя', 'по', 'обращению', 'родителей', ',', 'если', 'раньше', 'родители', 'были', 'плохо', 'информированы', ',', 'то', 'сейчас', ',', 'общаясь', 'с', 'родителями', 'дошкольников', 'или', 'будущих', 'дошкольников', '-', 'среди', 'друзей', ',', 'знакомых', ',', 'понимаю', ',', 'что', 'у', 'большинства', 'родителей', 'информация', 'есть', '.', 'Дальше', 'начинаются', 'нюансы', '-', 'ребёнок', 'может', 'быть', 'с', 'ограниченными', 'возможностями', 'здоровья', ',', 'может', 'не', 'иметь', 'гражданства', 'России', 'и', 'т.', 'д', '.', '-', 'которые', 'отягощают', 'жизненную', 'ситуацию', '.', 'Предположим', ',', 'что', 'нет', 'никакой', 'ЭГС', '.', 'Тогда', 'обязательно', 'должны', 'быть', 'сервисы', ',', 'которые', 'легко', 'давали', 'бы', 'информацию', 'и', ',', 'по', 'возможности', ',', 'вели', 'бы', 'к', 'этому', 'шагу', '.', 'То', 'есть', 'не', 'просто', 'рассказывали', ':', '«', 'Для', 'того', ',', 'чтобы', 'устроить', 'ребёнка', 'в', 'детский', 'сад', ',', 'нужно', 'зайти', 'на', 'такой-то', 'портал', ',', 'подать', 'такое-то', 'заявление', '»', '-', 'да', ',', 'это', 'всё', 'должно', 'быть', 'рассказано', ',', 'но', 'если', 'услуга', 'предоставляется', 'в', 'электронном', 'виде', ',', 'то', 'всё', 'должно', 'закончиться', 'ссылками', 'на', 'подачу', 'заявления', '.', 'Когда', 'они', 'окажутся', 'на', 'Портале', 'Госуслуг', ',', 'то', 'там', 'им', 'уже', 'более', 'подробно', 'и', 'конкретно', 'расскажут', ',', 'какие', 'нужны', 'документы', ',', 'нужно', 'ли', 'обязательно', 'на', 'портале', 'подавать', 'заявление', 'или', 'можно', 'ножками', 'пойти', 'в', 'МФЦ', '-', 'то', 'есть', 'более', '«', 'узкий', '»', 'процесс', '.', 'Второй', 'момент', '.', 'В', 'отличие', 'от', 'зачисления', 'в', 'первый', 'класс', ',', 'где', 'есть', 'некое', 'обязательство', 'города', ',', 'что', 'ребёнок', 'имеет', 'право', 'на', 'место', 'в', 'школе', ',', 'к', 'которой', 'он', 'прикреплён', 'по', 'адресу', 'проживания', ',', 'то', 'с', 'детскими', 'садами', 'такой', 'истории', 'нет', '.', 'Мы', 'понимаем', ',', 'что', ',', 'скорее', 'всего', ',', 'родитель', 'хочет', ',', 'чтобы', 'его', 'ребёнок', 'был', 'зачислен', 'в', 'ближайший', 'детский', 'сад', '.', 'Но', 'в', 'то', 'же', 'время', 'детские', 'сады', '-', 'это', 'такие', 'же', 'образовательные', 'организации', ',', 'в', 'которых', 'реализуются', 'разные', 'образовательные', 'программы', '.', 'Есть', 'детские', 'сады', 'с', 'какими-то', '«', 'добавками', '»', ',', 'помимо', 'обязательных', 'регламентированных', 'услуг', ',', 'и', ',', 'возможно', ',', 'какому-то', 'родителю', 'было', 'бы', 'интересно', 'отдать', 'ребёнка', 'не', 'в', 'ближайший', 'детский', 'сад', ',', 'а', 'в', 'тот', ',', 'что', 'подальше', ',', 'но', 'в', 'котором', 'есть', 'что-то', 'для', 'него', 'интересное', '.', 'В', 'каких-то', 'детских', 'садах', 'есть', 'ясли', ',', 'в', 'каких-то', '-', 'нет', '.', 'Эту', 'информацию', 'тоже', 'хотелось', 'бы', 'оперативно', 'получать', '.', 'То', 'есть', 'родитель', 'должен', 'быть', 'информирован', 'об', 'образовательном', 'процессе', 'в', 'детских', 'садах', 'Санкт-Петербурга', '.', 'Может', ',', 'такая', 'опция', 'и', 'не', 'будет', 'массово', 'востребована', ',', 'но', 'почему', 'бы', 'и', 'нет', '?', 'Родителей', 'всегда', 'интересует', 'безопасность', '-', 'начиная', 'с', 'входа', 'на', 'территорию', 'и', 'заканчивая', 'прибитыми', 'к', 'стенам', 'шкафами', '.', 'Второе', '-', 'это', 'компетенции', 'персонала', ',', 'подтверждённые', 'надёжными', 'проверенными', 'отзывами', ',', 'чтобы', 'родители', 'могли', 'задать', 'свои', 'критерии', 'для', 'фильтрации', 'либо', 'посмотреть', 'объективные', 'критерии', ',', 'предлагаемые', 'сервисом', '.', 'Также', 'важна', 'доступность', 'учреждений', '(', 'шаговая', ',', 'транспортная', ')', '.', 'Возможно', ',', 'визуализация', '-', 'красочные', 'картинки', ',', 'информация', 'о', 'конкурсах', 'среди', 'учебных', 'заведений', 'или', 'внутри', 'конкретного', 'детского', 'сада', '.', 'Может', 'быть', 'представлена', 'тематическая', 'направленность', ',', 'образовательный', 'уклон', 'детского', 'сада', '.', 'Если', 'родитель', 'хочет', 'отправить', 'ребёнка', 'в', 'детский', 'сад', ',', 'то', 'необходим', 'некий', 'концентратор', ',', 'где', 'родитель', 'видел', 'бы', 'свободные', 'места', 'в', 'детских', 'садах', ',', 'специфику', 'групп', 'и', 'детских', 'садов', '(', 'логопедические', ',', 'с', 'бассейном', 'и', 'т', '.', 'д.', ')', '.', 'Причём', 'нужно', 'видеть', 'это', 'обязательно', 'не', 'дома', ',', 'а', ',', 'например', ',', 'у', 'работы', 'или', 'другой', 'точки', 'притяжения', ',', 'то', 'есть', 'на', 'весь', 'город', '.', 'Показывать', 'это', 'можно', 'в', 'формате', 'карты', 'или', 'каким-то', 'другим', 'образом', '.', 'Так', 'родитель', 'сможет', 'понять', ',', 'куда', 'можно', 'подать', 'заявление', 'на', 'поступление', 'в', 'детский', 'сад', ',', 'так', 'как', 'количество', 'заявлений', 'в', 'целом', 'ограничено', '.', 'В', 'целом', ',', 'нужно', 'понимать', ',', 'где', 'детский', 'сад', 'находится', ',', 'может', 'ли', 'принять', 'ребёнка', 'нашего', 'возраста', 'и', 'есть', 'ли', 'вообще', 'вакантные', 'места', 'и', 'какая', 'у', 'него', 'специфика', '.', 'Есть', 'место', ',', 'где', 'семья', 'живёт', ',', 'и', 'есть', 'сады', ',', 'которые', 'находятся', 'на', 'каком-то', 'расстоянии', 'от', 'этого', 'места', '.', 'У', 'разных', 'родителей', 'разные', 'возможности', 'по', 'логистике', '.', 'Некоторые', 'родители', 'стараются', 'устроить', 'ребёнка', 'в', 'детский', 'сад', 'рядом', 'с', 'работой', ',', 'некоторые', '-', 'рядом', 'с', 'домом', '.', 'Нужен', 'сервис', ',', 'который', 'может', 'по', 'локации', 'подсказывать', 'удобный', 'садик', 'родителям', ',', 'без', 'приписки', 'к', 'месту', 'жительства', '.', 'Важно', 'понимать', ',', 'есть', 'ли', 'в', 'детском', 'саду', 'свободные', 'места', '.', 'Можно', 'реализовать', 'возможность', 'подавать', 'заявления', 'в', 'три', 'детских', 'сада', 'по', 'приоритетности', '.', 'Сервис', 'должен', 'информировать', 'о', 'возрастных', 'группах', 'и', 'вакантных', 'местах', ',', 'распорядке', 'дня', 'в', 'какой-то', 'интерактивной', 'форме', '(', 'во', 'сколько', 'приходим', ',', 'во', 'сколько', 'уходим', 'и', 'т', '.', 'д', '.', ')', ',', 'событиях', 'детского', 'сада', '.', 'Это', 'не', 'будет', 'нагружать', 'образовательное', 'учреждение', ',', 'потому', 'что', 'мы', 'и', 'так', 'предоставляем', 'эту', 'информацию', '.', 'Сервис', 'может', 'быть', 'соединён', 'с', 'госпабликом', 'детского', 'сада', '.', 'Также', 'сервис', 'должен', 'позволять', 'родителям', 'оставлять', 'обратную', 'связь', 'напрямую', 'детскому', 'саду', ',', 'минуя', 'цифровую', 'подпись', 'и', 'другие', 'процедуры', ',', 'которые', 'есть', 'на', 'Портале', 'Госуслуг', '.', 'Пусть', 'обращение', 'будет', 'хоть', 'от', 'анонима', '-', 'это', 'хотя', 'бы', 'будет', 'живое', 'общение', '.', 'Лучше', ',', 'чтобы', 'у', 'родителей', 'была', 'возможность', 'контроля', '-', 'в', 'формате', 'видеотрансляции', 'из', 'детского', 'сада', '.', 'Было', 'бы', 'удобно', ',', 'если', 'бы', 'фото', 'детей', ',', 'которые', 'делают', 'воспитатели', ',', 'публиковались', 'для', 'родителей', 'на', 'каком-то', 'постоянном', 'ресурсе', '.']\n"
          ]
        }
      ]
    },
    {
      "cell_type": "code",
      "source": [
        "punctuations = list(punctuation)\n",
        "print(punctuations)"
      ],
      "metadata": {
        "colab": {
          "base_uri": "https://localhost:8080/"
        },
        "id": "NQMhAZmAZ7Ze",
        "outputId": "3135de4f-2ef4-4216-8aff-93e0c5793fe7"
      },
      "execution_count": null,
      "outputs": [
        {
          "output_type": "stream",
          "name": "stdout",
          "text": [
            "['!', '\"', '#', '$', '%', '&', \"'\", '(', ')', '*', '+', ',', '-', '.', '/', ':', ';', '<', '=', '>', '?', '@', '[', '\\\\', ']', '^', '_', '`', '{', '|', '}', '~']\n"
          ]
        }
      ]
    },
    {
      "cell_type": "code",
      "source": [
        "tokens_without_punct = [i for i in tokens if i not in punctuations]\n",
        "print(tokens_without_punct)"
      ],
      "metadata": {
        "colab": {
          "base_uri": "https://localhost:8080/"
        },
        "id": "CCJ_HDp6Z-73",
        "outputId": "787cd44a-37fc-495d-8fae-5294a754a404"
      },
      "execution_count": null,
      "outputs": [
        {
          "output_type": "stream",
          "name": "stdout",
          "text": [
            "['Первое', 'это', 'информативность', 'понимание', 'что', 'есть', 'рядом', 'что', 'может', 'помочь', 'ребёнку', 'Информации', 'много', 'но', 'поиск', 'сведений', 'о', 'графике', 'дисциплинах', 'и', 'т.', 'д.', 'нужно', 'постоянно', 'осуществлять', 'самому', 'и', 'с', 'нуля', 'Также', 'внутри', 'детских', 'садов', 'много', 'своих', 'курсов', 'Нужен', 'сервис', 'который', 'будет', 'работать', 'в', 'формате', 'одного', 'окна', 'и', 'предоставлять', 'информацию', 'об', 'учреждениях', 'находящихся', 'в', 'пешей', 'доступности', '500', '600', '700', 'метров', 'Некоторые', 'родители', 'готовы', 'оплачивать', 'коммерческие', 'детские', 'сады', 'о', 'них', 'информация', 'так', 'же', 'должна', 'быть', 'У', 'каждой', 'группы', 'в', 'детском', 'саду', 'есть', 'самоорганизованный', 'Telegram-канал', 'Был', 'бы', 'полезен', 'сервис', 'который', 'позволял', 'бы', 'осуществлять', 'взаимодействие', 'подобного', 'характера', 'разделение', 'по', 'группам', 'возможность', 'обратиться', 'к', 'заведующему', 'С', 'одной', 'стороны', 'этого', 'все', 'боятся', 'обращений', 'может', 'быть', 'много', 'С', 'другой', 'стороны', 'заведующий', 'может', 'таким', 'образом', 'отследить', '«', 'боли', '»', 'родителей', 'и', 'систематизировать', 'их', 'Чего', 'точно', 'не', 'хватает', 'так', 'это', 'совместного', 'изучения', 'ребёнком', 'и', 'родителем', 'какой-то', 'дисциплины', 'Родителям', 'показывают', 'уже', 'результат', 'обучения', 'ребёнка', 'поделку', 'рисунок', 'что-то', 'ещё', 'В', 'стране', 'отсутствует', 'практика', 'вовлечения', 'родителя', 'в', 'процесс', 'дошкольного', 'образования', 'Интерес', 'родителей', 'о', 'количестве', 'свободных', 'мест', 'в', 'детских', 'садах', 'в', 'ближайших', 'к', 'дому', 'районах', 'Особенно', 'актуально', 'для', 'семей', 'с', 'несколькими', 'детьми', 'где', 'один', 'ребёнок', 'уже', 'ходит', 'в', 'детский', 'сад', 'по', 'месту', 'жительства', 'а', 'второму', 'может', 'не', 'хватить', 'места', 'в', 'этом', 'же', 'учреждении', 'Также', 'скорее', 'всего', 'родителей', 'интересуют', 'отзывы', 'о', 'персонале', 'о', 'развивающих', 'программах', 'детских', 'садов', 'Для', 'начала', 'определить', 'родившегося', 'ребёнка', 'в', 'детский', 'сад', 'поэтому', 'родитель', 'должен', 'быть', 'информирован', 'о', 'процессе', 'зачисления', 'в', 'детский', 'сад', 'комплектования', 'как', 'мы', 'говорим', 'как', 'попадают', 'в', 'детский', 'сад', 'какие', 'нужны', 'документы', 'куда', 'бежать', 'в', 'какой', 'момент', 'бежать', 'прямо', 'сразу', 'как', 'мне', 'его', 'принесли', 'в', 'роддоме', 'или', 'можно', 'всё-таки', 'немножко', 'подождать', 'что', 'по', 'ходу', 'будет', 'происходить', 'Но', 'судя', 'по', 'обращению', 'родителей', 'если', 'раньше', 'родители', 'были', 'плохо', 'информированы', 'то', 'сейчас', 'общаясь', 'с', 'родителями', 'дошкольников', 'или', 'будущих', 'дошкольников', 'среди', 'друзей', 'знакомых', 'понимаю', 'что', 'у', 'большинства', 'родителей', 'информация', 'есть', 'Дальше', 'начинаются', 'нюансы', 'ребёнок', 'может', 'быть', 'с', 'ограниченными', 'возможностями', 'здоровья', 'может', 'не', 'иметь', 'гражданства', 'России', 'и', 'т.', 'д', 'которые', 'отягощают', 'жизненную', 'ситуацию', 'Предположим', 'что', 'нет', 'никакой', 'ЭГС', 'Тогда', 'обязательно', 'должны', 'быть', 'сервисы', 'которые', 'легко', 'давали', 'бы', 'информацию', 'и', 'по', 'возможности', 'вели', 'бы', 'к', 'этому', 'шагу', 'То', 'есть', 'не', 'просто', 'рассказывали', '«', 'Для', 'того', 'чтобы', 'устроить', 'ребёнка', 'в', 'детский', 'сад', 'нужно', 'зайти', 'на', 'такой-то', 'портал', 'подать', 'такое-то', 'заявление', '»', 'да', 'это', 'всё', 'должно', 'быть', 'рассказано', 'но', 'если', 'услуга', 'предоставляется', 'в', 'электронном', 'виде', 'то', 'всё', 'должно', 'закончиться', 'ссылками', 'на', 'подачу', 'заявления', 'Когда', 'они', 'окажутся', 'на', 'Портале', 'Госуслуг', 'то', 'там', 'им', 'уже', 'более', 'подробно', 'и', 'конкретно', 'расскажут', 'какие', 'нужны', 'документы', 'нужно', 'ли', 'обязательно', 'на', 'портале', 'подавать', 'заявление', 'или', 'можно', 'ножками', 'пойти', 'в', 'МФЦ', 'то', 'есть', 'более', '«', 'узкий', '»', 'процесс', 'Второй', 'момент', 'В', 'отличие', 'от', 'зачисления', 'в', 'первый', 'класс', 'где', 'есть', 'некое', 'обязательство', 'города', 'что', 'ребёнок', 'имеет', 'право', 'на', 'место', 'в', 'школе', 'к', 'которой', 'он', 'прикреплён', 'по', 'адресу', 'проживания', 'то', 'с', 'детскими', 'садами', 'такой', 'истории', 'нет', 'Мы', 'понимаем', 'что', 'скорее', 'всего', 'родитель', 'хочет', 'чтобы', 'его', 'ребёнок', 'был', 'зачислен', 'в', 'ближайший', 'детский', 'сад', 'Но', 'в', 'то', 'же', 'время', 'детские', 'сады', 'это', 'такие', 'же', 'образовательные', 'организации', 'в', 'которых', 'реализуются', 'разные', 'образовательные', 'программы', 'Есть', 'детские', 'сады', 'с', 'какими-то', '«', 'добавками', '»', 'помимо', 'обязательных', 'регламентированных', 'услуг', 'и', 'возможно', 'какому-то', 'родителю', 'было', 'бы', 'интересно', 'отдать', 'ребёнка', 'не', 'в', 'ближайший', 'детский', 'сад', 'а', 'в', 'тот', 'что', 'подальше', 'но', 'в', 'котором', 'есть', 'что-то', 'для', 'него', 'интересное', 'В', 'каких-то', 'детских', 'садах', 'есть', 'ясли', 'в', 'каких-то', 'нет', 'Эту', 'информацию', 'тоже', 'хотелось', 'бы', 'оперативно', 'получать', 'То', 'есть', 'родитель', 'должен', 'быть', 'информирован', 'об', 'образовательном', 'процессе', 'в', 'детских', 'садах', 'Санкт-Петербурга', 'Может', 'такая', 'опция', 'и', 'не', 'будет', 'массово', 'востребована', 'но', 'почему', 'бы', 'и', 'нет', 'Родителей', 'всегда', 'интересует', 'безопасность', 'начиная', 'с', 'входа', 'на', 'территорию', 'и', 'заканчивая', 'прибитыми', 'к', 'стенам', 'шкафами', 'Второе', 'это', 'компетенции', 'персонала', 'подтверждённые', 'надёжными', 'проверенными', 'отзывами', 'чтобы', 'родители', 'могли', 'задать', 'свои', 'критерии', 'для', 'фильтрации', 'либо', 'посмотреть', 'объективные', 'критерии', 'предлагаемые', 'сервисом', 'Также', 'важна', 'доступность', 'учреждений', 'шаговая', 'транспортная', 'Возможно', 'визуализация', 'красочные', 'картинки', 'информация', 'о', 'конкурсах', 'среди', 'учебных', 'заведений', 'или', 'внутри', 'конкретного', 'детского', 'сада', 'Может', 'быть', 'представлена', 'тематическая', 'направленность', 'образовательный', 'уклон', 'детского', 'сада', 'Если', 'родитель', 'хочет', 'отправить', 'ребёнка', 'в', 'детский', 'сад', 'то', 'необходим', 'некий', 'концентратор', 'где', 'родитель', 'видел', 'бы', 'свободные', 'места', 'в', 'детских', 'садах', 'специфику', 'групп', 'и', 'детских', 'садов', 'логопедические', 'с', 'бассейном', 'и', 'т', 'д.', 'Причём', 'нужно', 'видеть', 'это', 'обязательно', 'не', 'дома', 'а', 'например', 'у', 'работы', 'или', 'другой', 'точки', 'притяжения', 'то', 'есть', 'на', 'весь', 'город', 'Показывать', 'это', 'можно', 'в', 'формате', 'карты', 'или', 'каким-то', 'другим', 'образом', 'Так', 'родитель', 'сможет', 'понять', 'куда', 'можно', 'подать', 'заявление', 'на', 'поступление', 'в', 'детский', 'сад', 'так', 'как', 'количество', 'заявлений', 'в', 'целом', 'ограничено', 'В', 'целом', 'нужно', 'понимать', 'где', 'детский', 'сад', 'находится', 'может', 'ли', 'принять', 'ребёнка', 'нашего', 'возраста', 'и', 'есть', 'ли', 'вообще', 'вакантные', 'места', 'и', 'какая', 'у', 'него', 'специфика', 'Есть', 'место', 'где', 'семья', 'живёт', 'и', 'есть', 'сады', 'которые', 'находятся', 'на', 'каком-то', 'расстоянии', 'от', 'этого', 'места', 'У', 'разных', 'родителей', 'разные', 'возможности', 'по', 'логистике', 'Некоторые', 'родители', 'стараются', 'устроить', 'ребёнка', 'в', 'детский', 'сад', 'рядом', 'с', 'работой', 'некоторые', 'рядом', 'с', 'домом', 'Нужен', 'сервис', 'который', 'может', 'по', 'локации', 'подсказывать', 'удобный', 'садик', 'родителям', 'без', 'приписки', 'к', 'месту', 'жительства', 'Важно', 'понимать', 'есть', 'ли', 'в', 'детском', 'саду', 'свободные', 'места', 'Можно', 'реализовать', 'возможность', 'подавать', 'заявления', 'в', 'три', 'детских', 'сада', 'по', 'приоритетности', 'Сервис', 'должен', 'информировать', 'о', 'возрастных', 'группах', 'и', 'вакантных', 'местах', 'распорядке', 'дня', 'в', 'какой-то', 'интерактивной', 'форме', 'во', 'сколько', 'приходим', 'во', 'сколько', 'уходим', 'и', 'т', 'д', 'событиях', 'детского', 'сада', 'Это', 'не', 'будет', 'нагружать', 'образовательное', 'учреждение', 'потому', 'что', 'мы', 'и', 'так', 'предоставляем', 'эту', 'информацию', 'Сервис', 'может', 'быть', 'соединён', 'с', 'госпабликом', 'детского', 'сада', 'Также', 'сервис', 'должен', 'позволять', 'родителям', 'оставлять', 'обратную', 'связь', 'напрямую', 'детскому', 'саду', 'минуя', 'цифровую', 'подпись', 'и', 'другие', 'процедуры', 'которые', 'есть', 'на', 'Портале', 'Госуслуг', 'Пусть', 'обращение', 'будет', 'хоть', 'от', 'анонима', 'это', 'хотя', 'бы', 'будет', 'живое', 'общение', 'Лучше', 'чтобы', 'у', 'родителей', 'была', 'возможность', 'контроля', 'в', 'формате', 'видеотрансляции', 'из', 'детского', 'сада', 'Было', 'бы', 'удобно', 'если', 'бы', 'фото', 'детей', 'которые', 'делают', 'воспитатели', 'публиковались', 'для', 'родителей', 'на', 'каком-то', 'постоянном', 'ресурсе']\n"
          ]
        }
      ]
    },
    {
      "cell_type": "code",
      "source": [
        "low_tokens = [i.lower() for i in tokens_without_punct]\n",
        "print(low_tokens)"
      ],
      "metadata": {
        "colab": {
          "base_uri": "https://localhost:8080/"
        },
        "id": "3sxATF8iaBfn",
        "outputId": "df20492a-bc92-4836-cc42-54c3ad91497a"
      },
      "execution_count": null,
      "outputs": [
        {
          "output_type": "stream",
          "name": "stdout",
          "text": [
            "['первое', 'это', 'информативность', 'понимание', 'что', 'есть', 'рядом', 'что', 'может', 'помочь', 'ребёнку', 'информации', 'много', 'но', 'поиск', 'сведений', 'о', 'графике', 'дисциплинах', 'и', 'т.', 'д.', 'нужно', 'постоянно', 'осуществлять', 'самому', 'и', 'с', 'нуля', 'также', 'внутри', 'детских', 'садов', 'много', 'своих', 'курсов', 'нужен', 'сервис', 'который', 'будет', 'работать', 'в', 'формате', 'одного', 'окна', 'и', 'предоставлять', 'информацию', 'об', 'учреждениях', 'находящихся', 'в', 'пешей', 'доступности', '500', '600', '700', 'метров', 'некоторые', 'родители', 'готовы', 'оплачивать', 'коммерческие', 'детские', 'сады', 'о', 'них', 'информация', 'так', 'же', 'должна', 'быть', 'у', 'каждой', 'группы', 'в', 'детском', 'саду', 'есть', 'самоорганизованный', 'telegram-канал', 'был', 'бы', 'полезен', 'сервис', 'который', 'позволял', 'бы', 'осуществлять', 'взаимодействие', 'подобного', 'характера', 'разделение', 'по', 'группам', 'возможность', 'обратиться', 'к', 'заведующему', 'с', 'одной', 'стороны', 'этого', 'все', 'боятся', 'обращений', 'может', 'быть', 'много', 'с', 'другой', 'стороны', 'заведующий', 'может', 'таким', 'образом', 'отследить', '«', 'боли', '»', 'родителей', 'и', 'систематизировать', 'их', 'чего', 'точно', 'не', 'хватает', 'так', 'это', 'совместного', 'изучения', 'ребёнком', 'и', 'родителем', 'какой-то', 'дисциплины', 'родителям', 'показывают', 'уже', 'результат', 'обучения', 'ребёнка', 'поделку', 'рисунок', 'что-то', 'ещё', 'в', 'стране', 'отсутствует', 'практика', 'вовлечения', 'родителя', 'в', 'процесс', 'дошкольного', 'образования', 'интерес', 'родителей', 'о', 'количестве', 'свободных', 'мест', 'в', 'детских', 'садах', 'в', 'ближайших', 'к', 'дому', 'районах', 'особенно', 'актуально', 'для', 'семей', 'с', 'несколькими', 'детьми', 'где', 'один', 'ребёнок', 'уже', 'ходит', 'в', 'детский', 'сад', 'по', 'месту', 'жительства', 'а', 'второму', 'может', 'не', 'хватить', 'места', 'в', 'этом', 'же', 'учреждении', 'также', 'скорее', 'всего', 'родителей', 'интересуют', 'отзывы', 'о', 'персонале', 'о', 'развивающих', 'программах', 'детских', 'садов', 'для', 'начала', 'определить', 'родившегося', 'ребёнка', 'в', 'детский', 'сад', 'поэтому', 'родитель', 'должен', 'быть', 'информирован', 'о', 'процессе', 'зачисления', 'в', 'детский', 'сад', 'комплектования', 'как', 'мы', 'говорим', 'как', 'попадают', 'в', 'детский', 'сад', 'какие', 'нужны', 'документы', 'куда', 'бежать', 'в', 'какой', 'момент', 'бежать', 'прямо', 'сразу', 'как', 'мне', 'его', 'принесли', 'в', 'роддоме', 'или', 'можно', 'всё-таки', 'немножко', 'подождать', 'что', 'по', 'ходу', 'будет', 'происходить', 'но', 'судя', 'по', 'обращению', 'родителей', 'если', 'раньше', 'родители', 'были', 'плохо', 'информированы', 'то', 'сейчас', 'общаясь', 'с', 'родителями', 'дошкольников', 'или', 'будущих', 'дошкольников', 'среди', 'друзей', 'знакомых', 'понимаю', 'что', 'у', 'большинства', 'родителей', 'информация', 'есть', 'дальше', 'начинаются', 'нюансы', 'ребёнок', 'может', 'быть', 'с', 'ограниченными', 'возможностями', 'здоровья', 'может', 'не', 'иметь', 'гражданства', 'россии', 'и', 'т.', 'д', 'которые', 'отягощают', 'жизненную', 'ситуацию', 'предположим', 'что', 'нет', 'никакой', 'эгс', 'тогда', 'обязательно', 'должны', 'быть', 'сервисы', 'которые', 'легко', 'давали', 'бы', 'информацию', 'и', 'по', 'возможности', 'вели', 'бы', 'к', 'этому', 'шагу', 'то', 'есть', 'не', 'просто', 'рассказывали', '«', 'для', 'того', 'чтобы', 'устроить', 'ребёнка', 'в', 'детский', 'сад', 'нужно', 'зайти', 'на', 'такой-то', 'портал', 'подать', 'такое-то', 'заявление', '»', 'да', 'это', 'всё', 'должно', 'быть', 'рассказано', 'но', 'если', 'услуга', 'предоставляется', 'в', 'электронном', 'виде', 'то', 'всё', 'должно', 'закончиться', 'ссылками', 'на', 'подачу', 'заявления', 'когда', 'они', 'окажутся', 'на', 'портале', 'госуслуг', 'то', 'там', 'им', 'уже', 'более', 'подробно', 'и', 'конкретно', 'расскажут', 'какие', 'нужны', 'документы', 'нужно', 'ли', 'обязательно', 'на', 'портале', 'подавать', 'заявление', 'или', 'можно', 'ножками', 'пойти', 'в', 'мфц', 'то', 'есть', 'более', '«', 'узкий', '»', 'процесс', 'второй', 'момент', 'в', 'отличие', 'от', 'зачисления', 'в', 'первый', 'класс', 'где', 'есть', 'некое', 'обязательство', 'города', 'что', 'ребёнок', 'имеет', 'право', 'на', 'место', 'в', 'школе', 'к', 'которой', 'он', 'прикреплён', 'по', 'адресу', 'проживания', 'то', 'с', 'детскими', 'садами', 'такой', 'истории', 'нет', 'мы', 'понимаем', 'что', 'скорее', 'всего', 'родитель', 'хочет', 'чтобы', 'его', 'ребёнок', 'был', 'зачислен', 'в', 'ближайший', 'детский', 'сад', 'но', 'в', 'то', 'же', 'время', 'детские', 'сады', 'это', 'такие', 'же', 'образовательные', 'организации', 'в', 'которых', 'реализуются', 'разные', 'образовательные', 'программы', 'есть', 'детские', 'сады', 'с', 'какими-то', '«', 'добавками', '»', 'помимо', 'обязательных', 'регламентированных', 'услуг', 'и', 'возможно', 'какому-то', 'родителю', 'было', 'бы', 'интересно', 'отдать', 'ребёнка', 'не', 'в', 'ближайший', 'детский', 'сад', 'а', 'в', 'тот', 'что', 'подальше', 'но', 'в', 'котором', 'есть', 'что-то', 'для', 'него', 'интересное', 'в', 'каких-то', 'детских', 'садах', 'есть', 'ясли', 'в', 'каких-то', 'нет', 'эту', 'информацию', 'тоже', 'хотелось', 'бы', 'оперативно', 'получать', 'то', 'есть', 'родитель', 'должен', 'быть', 'информирован', 'об', 'образовательном', 'процессе', 'в', 'детских', 'садах', 'санкт-петербурга', 'может', 'такая', 'опция', 'и', 'не', 'будет', 'массово', 'востребована', 'но', 'почему', 'бы', 'и', 'нет', 'родителей', 'всегда', 'интересует', 'безопасность', 'начиная', 'с', 'входа', 'на', 'территорию', 'и', 'заканчивая', 'прибитыми', 'к', 'стенам', 'шкафами', 'второе', 'это', 'компетенции', 'персонала', 'подтверждённые', 'надёжными', 'проверенными', 'отзывами', 'чтобы', 'родители', 'могли', 'задать', 'свои', 'критерии', 'для', 'фильтрации', 'либо', 'посмотреть', 'объективные', 'критерии', 'предлагаемые', 'сервисом', 'также', 'важна', 'доступность', 'учреждений', 'шаговая', 'транспортная', 'возможно', 'визуализация', 'красочные', 'картинки', 'информация', 'о', 'конкурсах', 'среди', 'учебных', 'заведений', 'или', 'внутри', 'конкретного', 'детского', 'сада', 'может', 'быть', 'представлена', 'тематическая', 'направленность', 'образовательный', 'уклон', 'детского', 'сада', 'если', 'родитель', 'хочет', 'отправить', 'ребёнка', 'в', 'детский', 'сад', 'то', 'необходим', 'некий', 'концентратор', 'где', 'родитель', 'видел', 'бы', 'свободные', 'места', 'в', 'детских', 'садах', 'специфику', 'групп', 'и', 'детских', 'садов', 'логопедические', 'с', 'бассейном', 'и', 'т', 'д.', 'причём', 'нужно', 'видеть', 'это', 'обязательно', 'не', 'дома', 'а', 'например', 'у', 'работы', 'или', 'другой', 'точки', 'притяжения', 'то', 'есть', 'на', 'весь', 'город', 'показывать', 'это', 'можно', 'в', 'формате', 'карты', 'или', 'каким-то', 'другим', 'образом', 'так', 'родитель', 'сможет', 'понять', 'куда', 'можно', 'подать', 'заявление', 'на', 'поступление', 'в', 'детский', 'сад', 'так', 'как', 'количество', 'заявлений', 'в', 'целом', 'ограничено', 'в', 'целом', 'нужно', 'понимать', 'где', 'детский', 'сад', 'находится', 'может', 'ли', 'принять', 'ребёнка', 'нашего', 'возраста', 'и', 'есть', 'ли', 'вообще', 'вакантные', 'места', 'и', 'какая', 'у', 'него', 'специфика', 'есть', 'место', 'где', 'семья', 'живёт', 'и', 'есть', 'сады', 'которые', 'находятся', 'на', 'каком-то', 'расстоянии', 'от', 'этого', 'места', 'у', 'разных', 'родителей', 'разные', 'возможности', 'по', 'логистике', 'некоторые', 'родители', 'стараются', 'устроить', 'ребёнка', 'в', 'детский', 'сад', 'рядом', 'с', 'работой', 'некоторые', 'рядом', 'с', 'домом', 'нужен', 'сервис', 'который', 'может', 'по', 'локации', 'подсказывать', 'удобный', 'садик', 'родителям', 'без', 'приписки', 'к', 'месту', 'жительства', 'важно', 'понимать', 'есть', 'ли', 'в', 'детском', 'саду', 'свободные', 'места', 'можно', 'реализовать', 'возможность', 'подавать', 'заявления', 'в', 'три', 'детских', 'сада', 'по', 'приоритетности', 'сервис', 'должен', 'информировать', 'о', 'возрастных', 'группах', 'и', 'вакантных', 'местах', 'распорядке', 'дня', 'в', 'какой-то', 'интерактивной', 'форме', 'во', 'сколько', 'приходим', 'во', 'сколько', 'уходим', 'и', 'т', 'д', 'событиях', 'детского', 'сада', 'это', 'не', 'будет', 'нагружать', 'образовательное', 'учреждение', 'потому', 'что', 'мы', 'и', 'так', 'предоставляем', 'эту', 'информацию', 'сервис', 'может', 'быть', 'соединён', 'с', 'госпабликом', 'детского', 'сада', 'также', 'сервис', 'должен', 'позволять', 'родителям', 'оставлять', 'обратную', 'связь', 'напрямую', 'детскому', 'саду', 'минуя', 'цифровую', 'подпись', 'и', 'другие', 'процедуры', 'которые', 'есть', 'на', 'портале', 'госуслуг', 'пусть', 'обращение', 'будет', 'хоть', 'от', 'анонима', 'это', 'хотя', 'бы', 'будет', 'живое', 'общение', 'лучше', 'чтобы', 'у', 'родителей', 'была', 'возможность', 'контроля', 'в', 'формате', 'видеотрансляции', 'из', 'детского', 'сада', 'было', 'бы', 'удобно', 'если', 'бы', 'фото', 'детей', 'которые', 'делают', 'воспитатели', 'публиковались', 'для', 'родителей', 'на', 'каком-то', 'постоянном', 'ресурсе']\n"
          ]
        }
      ]
    },
    {
      "cell_type": "code",
      "source": [
        "stemmer = SnowballStemmer('russian')\n",
        "morph = MorphAnalyzer()"
      ],
      "metadata": {
        "id": "K4cQ_Zf1XUHe"
      },
      "execution_count": null,
      "outputs": []
    },
    {
      "cell_type": "code",
      "source": [
        "stopwords = nltk.corpus.stopwords.words('russian')\n",
        "print(stopwords)"
      ],
      "metadata": {
        "colab": {
          "base_uri": "https://localhost:8080/"
        },
        "id": "g24l83hsZhn7",
        "outputId": "2ed8632a-c3de-4194-fe91-61e247436930"
      },
      "execution_count": null,
      "outputs": [
        {
          "output_type": "stream",
          "name": "stdout",
          "text": [
            "['и', 'в', 'во', 'не', 'что', 'он', 'на', 'я', 'с', 'со', 'как', 'а', 'то', 'все', 'она', 'так', 'его', 'но', 'да', 'ты', 'к', 'у', 'же', 'вы', 'за', 'бы', 'по', 'только', 'ее', 'мне', 'было', 'вот', 'от', 'меня', 'еще', 'нет', 'о', 'из', 'ему', 'теперь', 'когда', 'даже', 'ну', 'вдруг', 'ли', 'если', 'уже', 'или', 'ни', 'быть', 'был', 'него', 'до', 'вас', 'нибудь', 'опять', 'уж', 'вам', 'ведь', 'там', 'потом', 'себя', 'ничего', 'ей', 'может', 'они', 'тут', 'где', 'есть', 'надо', 'ней', 'для', 'мы', 'тебя', 'их', 'чем', 'была', 'сам', 'чтоб', 'без', 'будто', 'чего', 'раз', 'тоже', 'себе', 'под', 'будет', 'ж', 'тогда', 'кто', 'этот', 'того', 'потому', 'этого', 'какой', 'совсем', 'ним', 'здесь', 'этом', 'один', 'почти', 'мой', 'тем', 'чтобы', 'нее', 'сейчас', 'были', 'куда', 'зачем', 'всех', 'никогда', 'можно', 'при', 'наконец', 'два', 'об', 'другой', 'хоть', 'после', 'над', 'больше', 'тот', 'через', 'эти', 'нас', 'про', 'всего', 'них', 'какая', 'много', 'разве', 'три', 'эту', 'моя', 'впрочем', 'хорошо', 'свою', 'этой', 'перед', 'иногда', 'лучше', 'чуть', 'том', 'нельзя', 'такой', 'им', 'более', 'всегда', 'конечно', 'всю', 'между']\n"
          ]
        }
      ]
    },
    {
      "cell_type": "code",
      "source": [
        "lemms = [morph.parse(i)[0].normal_form for i in low_tokens]\n",
        "print(lemms)"
      ],
      "metadata": {
        "colab": {
          "base_uri": "https://localhost:8080/"
        },
        "id": "w-vTsUC_ZnwE",
        "outputId": "ff400b11-100d-496a-dae1-e6e52a4f859d"
      },
      "execution_count": null,
      "outputs": [
        {
          "output_type": "stream",
          "name": "stdout",
          "text": [
            "['первый', 'это', 'информативность', 'понимание', 'что', 'есть', 'рядом', 'что', 'мочь', 'помочь', 'ребёнок', 'информация', 'много', 'но', 'поиск', 'сведение', 'о', 'графика', 'дисциплина', 'и', 'т.', 'д.', 'нужно', 'постоянно', 'осуществлять', 'сам', 'и', 'с', 'нуль', 'также', 'внутри', 'детский', 'сад', 'много', 'свой', 'курс', 'нужный', 'сервис', 'который', 'быть', 'работать', 'в', 'формат', 'один', 'окно', 'и', 'предоставлять', 'информация', 'о', 'учреждение', 'находиться', 'в', 'пеший', 'доступность', '500', '600', '700', 'метр', 'некоторый', 'родитель', 'готовый', 'оплачивать', 'коммерческий', 'детский', 'сад', 'о', 'они', 'информация', 'так', 'же', 'должный', 'быть', 'у', 'каждый', 'группа', 'в', 'детский', 'сад', 'есть', 'самоорганизовать', 'telegram-канал', 'быть', 'бы', 'полезный', 'сервис', 'который', 'позволять', 'бы', 'осуществлять', 'взаимодействие', 'подобный', 'характер', 'разделение', 'по', 'группа', 'возможность', 'обратиться', 'к', 'заведовать', 'с', 'один', 'сторона', 'это', 'всё', 'бояться', 'обращение', 'мочь', 'быть', 'много', 'с', 'другой', 'сторона', 'заведовать', 'мочь', 'такой', 'образ', 'отследить', '«', 'боль', '»', 'родитель', 'и', 'систематизировать', 'они', 'что', 'точно', 'не', 'хватать', 'так', 'это', 'совместный', 'изучение', 'ребёнок', 'и', 'родитель', 'какой-то', 'дисциплина', 'родитель', 'показывать', 'уже', 'результат', 'обучение', 'ребёнок', 'поделка', 'рисунок', 'что-то', 'ещё', 'в', 'страна', 'отсутствовать', 'практика', 'вовлечение', 'родитель', 'в', 'процесс', 'дошкольный', 'образование', 'интерес', 'родитель', 'о', 'количество', 'свободный', 'место', 'в', 'детский', 'сад', 'в', 'близкий', 'к', 'дом', 'район', 'особенно', 'актуально', 'для', 'семья', 'с', 'несколько', 'ребёнок', 'где', 'один', 'ребёнок', 'уже', 'ходить', 'в', 'детский', 'сад', 'по', 'место', 'жительство', 'а', 'второй', 'мочь', 'не', 'хватить', 'место', 'в', 'это', 'же', 'учреждение', 'также', 'скорее', 'весь', 'родитель', 'интересовать', 'отзыв', 'о', 'персонал', 'о', 'развивать', 'программа', 'детский', 'сад', 'для', 'начало', 'определить', 'родиться', 'ребёнок', 'в', 'детский', 'сад', 'поэтому', 'родитель', 'должный', 'быть', 'информировать', 'о', 'процесс', 'зачисление', 'в', 'детский', 'сад', 'комплектование', 'как', 'мы', 'говорить', 'как', 'попадать', 'в', 'детский', 'сад', 'какой', 'нужный', 'документ', 'куда', 'бежать', 'в', 'какой', 'момент', 'бежать', 'прямо', 'сразу', 'как', 'я', 'он', 'принести', 'в', 'роддом', 'или', 'можно', 'всё-таки', 'немножко', 'подождать', 'что', 'по', 'ход', 'быть', 'происходить', 'но', 'судить', 'по', 'обращение', 'родитель', 'если', 'ранний', 'родитель', 'быть', 'плохо', 'информировать', 'то', 'сейчас', 'общаться', 'с', 'родитель', 'дошкольник', 'или', 'будущий', 'дошкольник', 'среди', 'друг', 'знакомый', 'понимать', 'что', 'у', 'большинство', 'родитель', 'информация', 'есть', 'далёкий', 'начинаться', 'нюанс', 'ребёнок', 'мочь', 'быть', 'с', 'ограниченный', 'возможность', 'здоровье', 'мочь', 'не', 'иметь', 'гражданство', 'россия', 'и', 'т.', 'далее', 'который', 'отягощать', 'жизненный', 'ситуация', 'предположим', 'что', 'нет', 'никакой', 'эгс', 'тогда', 'обязательно', 'должный', 'быть', 'сервис', 'который', 'легко', 'давать', 'бы', 'информация', 'и', 'по', 'возможность', 'вели', 'бы', 'к', 'этот', 'шаг', 'то', 'есть', 'не', 'просто', 'рассказывать', '«', 'для', 'тот', 'чтобы', 'устроить', 'ребёнок', 'в', 'детский', 'сад', 'нужно', 'зайти', 'на', 'такой-то', 'портал', 'подать', 'такой-то', 'заявление', '»', 'да', 'это', 'всё', 'должный', 'быть', 'рассказать', 'но', 'если', 'услуга', 'предоставляться', 'в', 'электронный', 'вид', 'то', 'всё', 'должный', 'закончиться', 'ссылка', 'на', 'подача', 'заявление', 'когда', 'они', 'оказаться', 'на', 'портал', 'госуслуга', 'то', 'там', 'они', 'уже', 'более', 'подробно', 'и', 'конкретно', 'рассказать', 'какой', 'нужный', 'документ', 'нужно', 'ли', 'обязательно', 'на', 'портал', 'подавать', 'заявление', 'или', 'можно', 'ножка', 'пойти', 'в', 'мфц', 'то', 'есть', 'более', '«', 'узкий', '»', 'процесс', 'второй', 'момент', 'в', 'отличие', 'от', 'зачисление', 'в', 'первый', 'класс', 'где', 'есть', 'некий', 'обязательство', 'город', 'что', 'ребёнок', 'иметь', 'право', 'на', 'место', 'в', 'школа', 'к', 'который', 'он', 'прикрепить', 'по', 'адрес', 'проживание', 'то', 'с', 'детский', 'сад', 'такой', 'история', 'нет', 'мы', 'понимать', 'что', 'скорее', 'весь', 'родитель', 'хотеть', 'чтобы', 'он', 'ребёнок', 'быть', 'зачислить', 'в', 'близкий', 'детский', 'сад', 'но', 'в', 'то', 'же', 'время', 'детский', 'сад', 'это', 'такой', 'же', 'образовательный', 'организация', 'в', 'который', 'реализоваться', 'разный', 'образовательный', 'программа', 'есть', 'детский', 'сад', 'с', 'какой-то', '«', 'добавка', '»', 'помимо', 'обязательный', 'регламентировать', 'услуга', 'и', 'возможно', 'какой-то', 'родитель', 'быть', 'бы', 'интересно', 'отдать', 'ребёнок', 'не', 'в', 'близкий', 'детский', 'сад', 'а', 'в', 'тот', 'что', 'далёкий', 'но', 'в', 'который', 'есть', 'что-то', 'для', 'он', 'интересный', 'в', 'какой-то', 'детский', 'сад', 'есть', 'ясли', 'в', 'какой-то', 'нет', 'этот', 'информация', 'тоже', 'хотеться', 'бы', 'оперативно', 'получать', 'то', 'есть', 'родитель', 'должный', 'быть', 'информировать', 'о', 'образовательный', 'процесс', 'в', 'детский', 'сад', 'санкт-петербург', 'мочь', 'такой', 'опция', 'и', 'не', 'быть', 'массово', 'востребовать', 'но', 'почему', 'бы', 'и', 'нет', 'родитель', 'всегда', 'интересовать', 'безопасность', 'начинать', 'с', 'вход', 'на', 'территория', 'и', 'заканчивать', 'прибить', 'к', 'стена', 'шкаф', 'второе', 'это', 'компетенция', 'персонал', 'подтвердить', 'надёжный', 'проверить', 'отзыв', 'чтобы', 'родитель', 'мочь', 'задать', 'свой', 'критерий', 'для', 'фильтрация', 'либо', 'посмотреть', 'объективный', 'критерий', 'предлагать', 'сервис', 'также', 'важный', 'доступность', 'учреждение', 'шаговый', 'транспортный', 'возможно', 'визуализация', 'красочный', 'картинка', 'информация', 'о', 'конкурс', 'среди', 'учебный', 'заведение', 'или', 'внутри', 'конкретный', 'детский', 'сад', 'мочь', 'быть', 'представить', 'тематический', 'направленность', 'образовательный', 'уклон', 'детский', 'сад', 'если', 'родитель', 'хотеть', 'отправить', 'ребёнок', 'в', 'детский', 'сад', 'то', 'необходимый', 'некий', 'концентратор', 'где', 'родитель', 'видеть', 'бы', 'свободный', 'место', 'в', 'детский', 'сад', 'специфика', 'группа', 'и', 'детский', 'сад', 'логопедический', 'с', 'бассейн', 'и', 'так', 'д.', 'причём', 'нужно', 'видеть', 'это', 'обязательно', 'не', 'дом', 'а', 'например', 'у', 'работа', 'или', 'другой', 'точка', 'притяжение', 'то', 'есть', 'на', 'весь', 'город', 'показывать', 'это', 'можно', 'в', 'формат', 'карта', 'или', 'какой-то', 'другой', 'образ', 'так', 'родитель', 'смочь', 'понять', 'куда', 'можно', 'подать', 'заявление', 'на', 'поступление', 'в', 'детский', 'сад', 'так', 'как', 'количество', 'заявление', 'в', 'целое', 'ограничить', 'в', 'целое', 'нужно', 'понимать', 'где', 'детский', 'сад', 'находиться', 'мочь', 'ли', 'принять', 'ребёнок', 'наш', 'возраст', 'и', 'есть', 'ли', 'вообще', 'вакантный', 'место', 'и', 'какой', 'у', 'он', 'специфика', 'есть', 'место', 'где', 'семья', 'жить', 'и', 'есть', 'сад', 'который', 'находиться', 'на', 'какой-то', 'расстояние', 'от', 'это', 'место', 'у', 'разный', 'родитель', 'разный', 'возможность', 'по', 'логистика', 'некоторый', 'родитель', 'стараться', 'устроить', 'ребёнок', 'в', 'детский', 'сад', 'рядом', 'с', 'работа', 'некоторый', 'рядом', 'с', 'дом', 'нужный', 'сервис', 'который', 'мочь', 'по', 'локация', 'подсказывать', 'удобный', 'садик', 'родитель', 'без', 'приписка', 'к', 'место', 'жительство', 'важно', 'понимать', 'есть', 'ли', 'в', 'детский', 'сад', 'свободный', 'место', 'можно', 'реализовать', 'возможность', 'подавать', 'заявление', 'в', 'три', 'детский', 'сад', 'по', 'приоритетность', 'сервис', 'должный', 'информировать', 'о', 'возрастной', 'группа', 'и', 'вакантный', 'место', 'распорядок', 'день', 'в', 'какой-то', 'интерактивный', 'форма', 'в', 'сколько', 'приходить', 'в', 'сколько', 'уходить', 'и', 'так', 'далее', 'событие', 'детский', 'сад', 'это', 'не', 'быть', 'нагружать', 'образовательный', 'учреждение', 'потому', 'что', 'мы', 'и', 'так', 'предоставлять', 'этот', 'информация', 'сервис', 'мочь', 'быть', 'соединить', 'с', 'госпаблик', 'детский', 'сад', 'также', 'сервис', 'должный', 'позволять', 'родитель', 'оставлять', 'обратный', 'связь', 'напрямую', 'детский', 'сад', 'миновать', 'цифровой', 'подпись', 'и', 'другой', 'процедура', 'который', 'есть', 'на', 'портал', 'госуслуга', 'пусть', 'обращение', 'быть', 'хоть', 'от', 'аноним', 'это', 'хотя', 'бы', 'быть', 'живой', 'общение', 'хороший', 'чтобы', 'у', 'родитель', 'быть', 'возможность', 'контроль', 'в', 'формат', 'видеотрансляция', 'из', 'детский', 'сад', 'быть', 'бы', 'удобно', 'если', 'бы', 'фото', 'ребёнок', 'который', 'делать', 'воспитатель', 'публиковаться', 'для', 'родитель', 'на', 'какой-то', 'постоянный', 'ресурс']\n"
          ]
        }
      ]
    },
    {
      "cell_type": "code",
      "source": [
        "words_without_stop = [i for i in lemms if i not in stopwords]\n",
        "print(words_without_stop)"
      ],
      "metadata": {
        "colab": {
          "base_uri": "https://localhost:8080/"
        },
        "id": "pw0sBPzvaLdQ",
        "outputId": "089fb63b-8f24-4e18-c483-b73362a6b4cc"
      },
      "execution_count": null,
      "outputs": [
        {
          "output_type": "stream",
          "name": "stdout",
          "text": [
            "['первый', 'это', 'информативность', 'понимание', 'рядом', 'мочь', 'помочь', 'ребёнок', 'информация', 'поиск', 'сведение', 'графика', 'дисциплина', 'т.', 'д.', 'нужно', 'постоянно', 'осуществлять', 'нуль', 'также', 'внутри', 'детский', 'сад', 'свой', 'курс', 'нужный', 'сервис', 'который', 'работать', 'формат', 'окно', 'предоставлять', 'информация', 'учреждение', 'находиться', 'пеший', 'доступность', '500', '600', '700', 'метр', 'некоторый', 'родитель', 'готовый', 'оплачивать', 'коммерческий', 'детский', 'сад', 'информация', 'должный', 'каждый', 'группа', 'детский', 'сад', 'самоорганизовать', 'telegram-канал', 'полезный', 'сервис', 'который', 'позволять', 'осуществлять', 'взаимодействие', 'подобный', 'характер', 'разделение', 'группа', 'возможность', 'обратиться', 'заведовать', 'сторона', 'это', 'всё', 'бояться', 'обращение', 'мочь', 'сторона', 'заведовать', 'мочь', 'образ', 'отследить', '«', 'боль', '»', 'родитель', 'систематизировать', 'точно', 'хватать', 'это', 'совместный', 'изучение', 'ребёнок', 'родитель', 'какой-то', 'дисциплина', 'родитель', 'показывать', 'результат', 'обучение', 'ребёнок', 'поделка', 'рисунок', 'что-то', 'ещё', 'страна', 'отсутствовать', 'практика', 'вовлечение', 'родитель', 'процесс', 'дошкольный', 'образование', 'интерес', 'родитель', 'количество', 'свободный', 'место', 'детский', 'сад', 'близкий', 'дом', 'район', 'особенно', 'актуально', 'семья', 'несколько', 'ребёнок', 'ребёнок', 'ходить', 'детский', 'сад', 'место', 'жительство', 'второй', 'мочь', 'хватить', 'место', 'это', 'учреждение', 'также', 'скорее', 'весь', 'родитель', 'интересовать', 'отзыв', 'персонал', 'развивать', 'программа', 'детский', 'сад', 'начало', 'определить', 'родиться', 'ребёнок', 'детский', 'сад', 'поэтому', 'родитель', 'должный', 'информировать', 'процесс', 'зачисление', 'детский', 'сад', 'комплектование', 'говорить', 'попадать', 'детский', 'сад', 'нужный', 'документ', 'бежать', 'момент', 'бежать', 'прямо', 'сразу', 'принести', 'роддом', 'всё-таки', 'немножко', 'подождать', 'ход', 'происходить', 'судить', 'обращение', 'родитель', 'ранний', 'родитель', 'плохо', 'информировать', 'общаться', 'родитель', 'дошкольник', 'будущий', 'дошкольник', 'среди', 'друг', 'знакомый', 'понимать', 'большинство', 'родитель', 'информация', 'далёкий', 'начинаться', 'нюанс', 'ребёнок', 'мочь', 'ограниченный', 'возможность', 'здоровье', 'мочь', 'иметь', 'гражданство', 'россия', 'т.', 'далее', 'который', 'отягощать', 'жизненный', 'ситуация', 'предположим', 'никакой', 'эгс', 'обязательно', 'должный', 'сервис', 'который', 'легко', 'давать', 'информация', 'возможность', 'вели', 'шаг', 'просто', 'рассказывать', '«', 'устроить', 'ребёнок', 'детский', 'сад', 'нужно', 'зайти', 'такой-то', 'портал', 'подать', 'такой-то', 'заявление', '»', 'это', 'всё', 'должный', 'рассказать', 'услуга', 'предоставляться', 'электронный', 'вид', 'всё', 'должный', 'закончиться', 'ссылка', 'подача', 'заявление', 'оказаться', 'портал', 'госуслуга', 'подробно', 'конкретно', 'рассказать', 'нужный', 'документ', 'нужно', 'обязательно', 'портал', 'подавать', 'заявление', 'ножка', 'пойти', 'мфц', '«', 'узкий', '»', 'процесс', 'второй', 'момент', 'отличие', 'зачисление', 'первый', 'класс', 'некий', 'обязательство', 'город', 'ребёнок', 'иметь', 'право', 'место', 'школа', 'который', 'прикрепить', 'адрес', 'проживание', 'детский', 'сад', 'история', 'понимать', 'скорее', 'весь', 'родитель', 'хотеть', 'ребёнок', 'зачислить', 'близкий', 'детский', 'сад', 'время', 'детский', 'сад', 'это', 'образовательный', 'организация', 'который', 'реализоваться', 'разный', 'образовательный', 'программа', 'детский', 'сад', 'какой-то', '«', 'добавка', '»', 'помимо', 'обязательный', 'регламентировать', 'услуга', 'возможно', 'какой-то', 'родитель', 'интересно', 'отдать', 'ребёнок', 'близкий', 'детский', 'сад', 'далёкий', 'который', 'что-то', 'интересный', 'какой-то', 'детский', 'сад', 'ясли', 'какой-то', 'информация', 'хотеться', 'оперативно', 'получать', 'родитель', 'должный', 'информировать', 'образовательный', 'процесс', 'детский', 'сад', 'санкт-петербург', 'мочь', 'опция', 'массово', 'востребовать', 'почему', 'родитель', 'интересовать', 'безопасность', 'начинать', 'вход', 'территория', 'заканчивать', 'прибить', 'стена', 'шкаф', 'второе', 'это', 'компетенция', 'персонал', 'подтвердить', 'надёжный', 'проверить', 'отзыв', 'родитель', 'мочь', 'задать', 'свой', 'критерий', 'фильтрация', 'либо', 'посмотреть', 'объективный', 'критерий', 'предлагать', 'сервис', 'также', 'важный', 'доступность', 'учреждение', 'шаговый', 'транспортный', 'возможно', 'визуализация', 'красочный', 'картинка', 'информация', 'конкурс', 'среди', 'учебный', 'заведение', 'внутри', 'конкретный', 'детский', 'сад', 'мочь', 'представить', 'тематический', 'направленность', 'образовательный', 'уклон', 'детский', 'сад', 'родитель', 'хотеть', 'отправить', 'ребёнок', 'детский', 'сад', 'необходимый', 'некий', 'концентратор', 'родитель', 'видеть', 'свободный', 'место', 'детский', 'сад', 'специфика', 'группа', 'детский', 'сад', 'логопедический', 'бассейн', 'д.', 'причём', 'нужно', 'видеть', 'это', 'обязательно', 'дом', 'например', 'работа', 'точка', 'притяжение', 'весь', 'город', 'показывать', 'это', 'формат', 'карта', 'какой-то', 'образ', 'родитель', 'смочь', 'понять', 'подать', 'заявление', 'поступление', 'детский', 'сад', 'количество', 'заявление', 'целое', 'ограничить', 'целое', 'нужно', 'понимать', 'детский', 'сад', 'находиться', 'мочь', 'принять', 'ребёнок', 'наш', 'возраст', 'вообще', 'вакантный', 'место', 'специфика', 'место', 'семья', 'жить', 'сад', 'который', 'находиться', 'какой-то', 'расстояние', 'это', 'место', 'разный', 'родитель', 'разный', 'возможность', 'логистика', 'некоторый', 'родитель', 'стараться', 'устроить', 'ребёнок', 'детский', 'сад', 'рядом', 'работа', 'некоторый', 'рядом', 'дом', 'нужный', 'сервис', 'который', 'мочь', 'локация', 'подсказывать', 'удобный', 'садик', 'родитель', 'приписка', 'место', 'жительство', 'важно', 'понимать', 'детский', 'сад', 'свободный', 'место', 'реализовать', 'возможность', 'подавать', 'заявление', 'детский', 'сад', 'приоритетность', 'сервис', 'должный', 'информировать', 'возрастной', 'группа', 'вакантный', 'место', 'распорядок', 'день', 'какой-то', 'интерактивный', 'форма', 'сколько', 'приходить', 'сколько', 'уходить', 'далее', 'событие', 'детский', 'сад', 'это', 'нагружать', 'образовательный', 'учреждение', 'предоставлять', 'информация', 'сервис', 'мочь', 'соединить', 'госпаблик', 'детский', 'сад', 'также', 'сервис', 'должный', 'позволять', 'родитель', 'оставлять', 'обратный', 'связь', 'напрямую', 'детский', 'сад', 'миновать', 'цифровой', 'подпись', 'процедура', 'который', 'портал', 'госуслуга', 'пусть', 'обращение', 'аноним', 'это', 'хотя', 'живой', 'общение', 'хороший', 'родитель', 'возможность', 'контроль', 'формат', 'видеотрансляция', 'детский', 'сад', 'удобно', 'фото', 'ребёнок', 'который', 'делать', 'воспитатель', 'публиковаться', 'родитель', 'какой-то', 'постоянный', 'ресурс']\n"
          ]
        }
      ]
    },
    {
      "cell_type": "code",
      "source": [
        "# Список токенов\n",
        "tokens = words_without_stop\n",
        "\n",
        "# Список стоп-слов\n",
        "stop_words = ['городской', 'цифровой', 'сервис', 'должный', 'нужно', 'нужный', 'свой', 'видеть', 'считать', 'смотровой', 'это', 'площадка', 'удовлетворить', 'потребность', 'например', 'приложение', 'разработчик', 'несколько', 'который', 'некоторый', 'каждый', 'всё', 'быть', 'иметь', 'мочь','любой', 'предоставлять', 'предлагать', 'также', 'включая', 'любой', 'ребёнок', 'родитель', 'детский', 'сад', 'т.', 'д.', 'п.', 'подобный', 'точно', '«', '»', 'что-то', 'ещё', 'особенно', 'скорее', 'поэтому', 'такой-то', 'весь', 'хотеть', 'помимо', 'возможно', 'какой-то', 'почему', 'либо', 'среди', 'конкретный', 'некий', 'вообще', 'разный', 'сколько', 'прямо', 'сразу', 'всё-таки', 'немножко', 'обязательно', 'обязательный', 'второй', 'дошкольник', 'первый', 'осуществлять', 'нуль', 'внутри', 'постоянно', '500', '600', '700', 'готовый', 'позволять', 'хватать', 'показывать', 'определить', 'говорить', 'происходить', 'большинство', 'далее', 'предположим', 'эгс', 'давать', 'просто', 'оказаться', 'конкретно', 'учреждение', 'понимать', 'садик']\n",
        "\n",
        "# Удаление стоп-слов из списка токенов\n",
        "filtered_tokens = [token for token in tokens if token not in stop_words]\n",
        "\n",
        "print(filtered_tokens)"
      ],
      "metadata": {
        "colab": {
          "base_uri": "https://localhost:8080/"
        },
        "id": "urM7AtdJaQlB",
        "outputId": "f5825a33-22a3-4a52-ea66-00fb9c70ba92"
      },
      "execution_count": null,
      "outputs": [
        {
          "output_type": "stream",
          "name": "stdout",
          "text": [
            "['информативность', 'понимание', 'рядом', 'помочь', 'информация', 'поиск', 'сведение', 'графика', 'дисциплина', 'курс', 'работать', 'формат', 'окно', 'информация', 'находиться', 'пеший', 'доступность', 'метр', 'оплачивать', 'коммерческий', 'информация', 'группа', 'самоорганизовать', 'telegram-канал', 'полезный', 'взаимодействие', 'характер', 'разделение', 'группа', 'возможность', 'обратиться', 'заведовать', 'сторона', 'бояться', 'обращение', 'сторона', 'заведовать', 'образ', 'отследить', 'боль', 'систематизировать', 'совместный', 'изучение', 'дисциплина', 'результат', 'обучение', 'поделка', 'рисунок', 'страна', 'отсутствовать', 'практика', 'вовлечение', 'процесс', 'дошкольный', 'образование', 'интерес', 'количество', 'свободный', 'место', 'близкий', 'дом', 'район', 'актуально', 'семья', 'ходить', 'место', 'жительство', 'хватить', 'место', 'интересовать', 'отзыв', 'персонал', 'развивать', 'программа', 'начало', 'родиться', 'информировать', 'процесс', 'зачисление', 'комплектование', 'попадать', 'документ', 'бежать', 'момент', 'бежать', 'принести', 'роддом', 'подождать', 'ход', 'судить', 'обращение', 'ранний', 'плохо', 'информировать', 'общаться', 'будущий', 'друг', 'знакомый', 'информация', 'далёкий', 'начинаться', 'нюанс', 'ограниченный', 'возможность', 'здоровье', 'гражданство', 'россия', 'отягощать', 'жизненный', 'ситуация', 'никакой', 'легко', 'информация', 'возможность', 'вели', 'шаг', 'рассказывать', 'устроить', 'зайти', 'портал', 'подать', 'заявление', 'рассказать', 'услуга', 'предоставляться', 'электронный', 'вид', 'закончиться', 'ссылка', 'подача', 'заявление', 'портал', 'госуслуга', 'подробно', 'рассказать', 'документ', 'портал', 'подавать', 'заявление', 'ножка', 'пойти', 'мфц', 'узкий', 'процесс', 'момент', 'отличие', 'зачисление', 'класс', 'обязательство', 'город', 'право', 'место', 'школа', 'прикрепить', 'адрес', 'проживание', 'история', 'зачислить', 'близкий', 'время', 'образовательный', 'организация', 'реализоваться', 'образовательный', 'программа', 'добавка', 'регламентировать', 'услуга', 'интересно', 'отдать', 'близкий', 'далёкий', 'интересный', 'ясли', 'информация', 'хотеться', 'оперативно', 'получать', 'информировать', 'образовательный', 'процесс', 'санкт-петербург', 'опция', 'массово', 'востребовать', 'интересовать', 'безопасность', 'начинать', 'вход', 'территория', 'заканчивать', 'прибить', 'стена', 'шкаф', 'второе', 'компетенция', 'персонал', 'подтвердить', 'надёжный', 'проверить', 'отзыв', 'задать', 'критерий', 'фильтрация', 'посмотреть', 'объективный', 'критерий', 'важный', 'доступность', 'шаговый', 'транспортный', 'визуализация', 'красочный', 'картинка', 'информация', 'конкурс', 'учебный', 'заведение', 'представить', 'тематический', 'направленность', 'образовательный', 'уклон', 'отправить', 'необходимый', 'концентратор', 'свободный', 'место', 'специфика', 'группа', 'логопедический', 'бассейн', 'причём', 'дом', 'работа', 'точка', 'притяжение', 'город', 'формат', 'карта', 'образ', 'смочь', 'понять', 'подать', 'заявление', 'поступление', 'количество', 'заявление', 'целое', 'ограничить', 'целое', 'находиться', 'принять', 'наш', 'возраст', 'вакантный', 'место', 'специфика', 'место', 'семья', 'жить', 'находиться', 'расстояние', 'место', 'возможность', 'логистика', 'стараться', 'устроить', 'рядом', 'работа', 'рядом', 'дом', 'локация', 'подсказывать', 'удобный', 'приписка', 'место', 'жительство', 'важно', 'свободный', 'место', 'реализовать', 'возможность', 'подавать', 'заявление', 'приоритетность', 'информировать', 'возрастной', 'группа', 'вакантный', 'место', 'распорядок', 'день', 'интерактивный', 'форма', 'приходить', 'уходить', 'событие', 'нагружать', 'образовательный', 'информация', 'соединить', 'госпаблик', 'оставлять', 'обратный', 'связь', 'напрямую', 'миновать', 'подпись', 'процедура', 'портал', 'госуслуга', 'пусть', 'обращение', 'аноним', 'хотя', 'живой', 'общение', 'хороший', 'возможность', 'контроль', 'формат', 'видеотрансляция', 'удобно', 'фото', 'делать', 'воспитатель', 'публиковаться', 'постоянный', 'ресурс']\n"
          ]
        }
      ]
    },
    {
      "cell_type": "code",
      "source": [
        "doc_size = 8\n",
        "docs = [filtered_tokens[i:i + doc_size] for i in range(0, len(filtered_tokens), doc_size)]\n",
        "docs"
      ],
      "metadata": {
        "colab": {
          "base_uri": "https://localhost:8080/"
        },
        "id": "ZKc1hwfgmHNJ",
        "outputId": "6b2a6f57-4b5e-4bb1-8e12-b9cb37cac0bb"
      },
      "execution_count": null,
      "outputs": [
        {
          "output_type": "execute_result",
          "data": {
            "text/plain": [
              "[['информативность',\n",
              "  'понимание',\n",
              "  'рядом',\n",
              "  'помочь',\n",
              "  'информация',\n",
              "  'поиск',\n",
              "  'сведение',\n",
              "  'графика'],\n",
              " ['дисциплина',\n",
              "  'курс',\n",
              "  'работать',\n",
              "  'формат',\n",
              "  'окно',\n",
              "  'информация',\n",
              "  'находиться',\n",
              "  'пеший'],\n",
              " ['доступность',\n",
              "  'метр',\n",
              "  'оплачивать',\n",
              "  'коммерческий',\n",
              "  'информация',\n",
              "  'группа',\n",
              "  'самоорганизовать',\n",
              "  'telegram-канал'],\n",
              " ['полезный',\n",
              "  'взаимодействие',\n",
              "  'характер',\n",
              "  'разделение',\n",
              "  'группа',\n",
              "  'возможность',\n",
              "  'обратиться',\n",
              "  'заведовать'],\n",
              " ['сторона',\n",
              "  'бояться',\n",
              "  'обращение',\n",
              "  'сторона',\n",
              "  'заведовать',\n",
              "  'образ',\n",
              "  'отследить',\n",
              "  'боль'],\n",
              " ['систематизировать',\n",
              "  'совместный',\n",
              "  'изучение',\n",
              "  'дисциплина',\n",
              "  'результат',\n",
              "  'обучение',\n",
              "  'поделка',\n",
              "  'рисунок'],\n",
              " ['страна',\n",
              "  'отсутствовать',\n",
              "  'практика',\n",
              "  'вовлечение',\n",
              "  'процесс',\n",
              "  'дошкольный',\n",
              "  'образование',\n",
              "  'интерес'],\n",
              " ['количество',\n",
              "  'свободный',\n",
              "  'место',\n",
              "  'близкий',\n",
              "  'дом',\n",
              "  'район',\n",
              "  'актуально',\n",
              "  'семья'],\n",
              " ['ходить',\n",
              "  'место',\n",
              "  'жительство',\n",
              "  'хватить',\n",
              "  'место',\n",
              "  'интересовать',\n",
              "  'отзыв',\n",
              "  'персонал'],\n",
              " ['развивать',\n",
              "  'программа',\n",
              "  'начало',\n",
              "  'родиться',\n",
              "  'информировать',\n",
              "  'процесс',\n",
              "  'зачисление',\n",
              "  'комплектование'],\n",
              " ['попадать',\n",
              "  'документ',\n",
              "  'бежать',\n",
              "  'момент',\n",
              "  'бежать',\n",
              "  'принести',\n",
              "  'роддом',\n",
              "  'подождать'],\n",
              " ['ход',\n",
              "  'судить',\n",
              "  'обращение',\n",
              "  'ранний',\n",
              "  'плохо',\n",
              "  'информировать',\n",
              "  'общаться',\n",
              "  'будущий'],\n",
              " ['друг',\n",
              "  'знакомый',\n",
              "  'информация',\n",
              "  'далёкий',\n",
              "  'начинаться',\n",
              "  'нюанс',\n",
              "  'ограниченный',\n",
              "  'возможность'],\n",
              " ['здоровье',\n",
              "  'гражданство',\n",
              "  'россия',\n",
              "  'отягощать',\n",
              "  'жизненный',\n",
              "  'ситуация',\n",
              "  'никакой',\n",
              "  'легко'],\n",
              " ['информация',\n",
              "  'возможность',\n",
              "  'вели',\n",
              "  'шаг',\n",
              "  'рассказывать',\n",
              "  'устроить',\n",
              "  'зайти',\n",
              "  'портал'],\n",
              " ['подать',\n",
              "  'заявление',\n",
              "  'рассказать',\n",
              "  'услуга',\n",
              "  'предоставляться',\n",
              "  'электронный',\n",
              "  'вид',\n",
              "  'закончиться'],\n",
              " ['ссылка',\n",
              "  'подача',\n",
              "  'заявление',\n",
              "  'портал',\n",
              "  'госуслуга',\n",
              "  'подробно',\n",
              "  'рассказать',\n",
              "  'документ'],\n",
              " ['портал',\n",
              "  'подавать',\n",
              "  'заявление',\n",
              "  'ножка',\n",
              "  'пойти',\n",
              "  'мфц',\n",
              "  'узкий',\n",
              "  'процесс'],\n",
              " ['момент',\n",
              "  'отличие',\n",
              "  'зачисление',\n",
              "  'класс',\n",
              "  'обязательство',\n",
              "  'город',\n",
              "  'право',\n",
              "  'место'],\n",
              " ['школа',\n",
              "  'прикрепить',\n",
              "  'адрес',\n",
              "  'проживание',\n",
              "  'история',\n",
              "  'зачислить',\n",
              "  'близкий',\n",
              "  'время'],\n",
              " ['образовательный',\n",
              "  'организация',\n",
              "  'реализоваться',\n",
              "  'образовательный',\n",
              "  'программа',\n",
              "  'добавка',\n",
              "  'регламентировать',\n",
              "  'услуга'],\n",
              " ['интересно',\n",
              "  'отдать',\n",
              "  'близкий',\n",
              "  'далёкий',\n",
              "  'интересный',\n",
              "  'ясли',\n",
              "  'информация',\n",
              "  'хотеться'],\n",
              " ['оперативно',\n",
              "  'получать',\n",
              "  'информировать',\n",
              "  'образовательный',\n",
              "  'процесс',\n",
              "  'санкт-петербург',\n",
              "  'опция',\n",
              "  'массово'],\n",
              " ['востребовать',\n",
              "  'интересовать',\n",
              "  'безопасность',\n",
              "  'начинать',\n",
              "  'вход',\n",
              "  'территория',\n",
              "  'заканчивать',\n",
              "  'прибить'],\n",
              " ['стена',\n",
              "  'шкаф',\n",
              "  'второе',\n",
              "  'компетенция',\n",
              "  'персонал',\n",
              "  'подтвердить',\n",
              "  'надёжный',\n",
              "  'проверить'],\n",
              " ['отзыв',\n",
              "  'задать',\n",
              "  'критерий',\n",
              "  'фильтрация',\n",
              "  'посмотреть',\n",
              "  'объективный',\n",
              "  'критерий',\n",
              "  'важный'],\n",
              " ['доступность',\n",
              "  'шаговый',\n",
              "  'транспортный',\n",
              "  'визуализация',\n",
              "  'красочный',\n",
              "  'картинка',\n",
              "  'информация',\n",
              "  'конкурс'],\n",
              " ['учебный',\n",
              "  'заведение',\n",
              "  'представить',\n",
              "  'тематический',\n",
              "  'направленность',\n",
              "  'образовательный',\n",
              "  'уклон',\n",
              "  'отправить'],\n",
              " ['необходимый',\n",
              "  'концентратор',\n",
              "  'свободный',\n",
              "  'место',\n",
              "  'специфика',\n",
              "  'группа',\n",
              "  'логопедический',\n",
              "  'бассейн'],\n",
              " ['причём',\n",
              "  'дом',\n",
              "  'работа',\n",
              "  'точка',\n",
              "  'притяжение',\n",
              "  'город',\n",
              "  'формат',\n",
              "  'карта'],\n",
              " ['образ',\n",
              "  'смочь',\n",
              "  'понять',\n",
              "  'подать',\n",
              "  'заявление',\n",
              "  'поступление',\n",
              "  'количество',\n",
              "  'заявление'],\n",
              " ['целое',\n",
              "  'ограничить',\n",
              "  'целое',\n",
              "  'находиться',\n",
              "  'принять',\n",
              "  'наш',\n",
              "  'возраст',\n",
              "  'вакантный'],\n",
              " ['место',\n",
              "  'специфика',\n",
              "  'место',\n",
              "  'семья',\n",
              "  'жить',\n",
              "  'находиться',\n",
              "  'расстояние',\n",
              "  'место'],\n",
              " ['возможность',\n",
              "  'логистика',\n",
              "  'стараться',\n",
              "  'устроить',\n",
              "  'рядом',\n",
              "  'работа',\n",
              "  'рядом',\n",
              "  'дом'],\n",
              " ['локация',\n",
              "  'подсказывать',\n",
              "  'удобный',\n",
              "  'приписка',\n",
              "  'место',\n",
              "  'жительство',\n",
              "  'важно',\n",
              "  'свободный'],\n",
              " ['место',\n",
              "  'реализовать',\n",
              "  'возможность',\n",
              "  'подавать',\n",
              "  'заявление',\n",
              "  'приоритетность',\n",
              "  'информировать',\n",
              "  'возрастной'],\n",
              " ['группа',\n",
              "  'вакантный',\n",
              "  'место',\n",
              "  'распорядок',\n",
              "  'день',\n",
              "  'интерактивный',\n",
              "  'форма',\n",
              "  'приходить'],\n",
              " ['уходить',\n",
              "  'событие',\n",
              "  'нагружать',\n",
              "  'образовательный',\n",
              "  'информация',\n",
              "  'соединить',\n",
              "  'госпаблик',\n",
              "  'оставлять'],\n",
              " ['обратный',\n",
              "  'связь',\n",
              "  'напрямую',\n",
              "  'миновать',\n",
              "  'подпись',\n",
              "  'процедура',\n",
              "  'портал',\n",
              "  'госуслуга'],\n",
              " ['пусть',\n",
              "  'обращение',\n",
              "  'аноним',\n",
              "  'хотя',\n",
              "  'живой',\n",
              "  'общение',\n",
              "  'хороший',\n",
              "  'возможность'],\n",
              " ['контроль',\n",
              "  'формат',\n",
              "  'видеотрансляция',\n",
              "  'удобно',\n",
              "  'фото',\n",
              "  'делать',\n",
              "  'воспитатель',\n",
              "  'публиковаться'],\n",
              " ['постоянный', 'ресурс']]"
            ]
          },
          "metadata": {},
          "execution_count": 352
        }
      ]
    },
    {
      "cell_type": "code",
      "source": [
        "from gensim.models import Phrases"
      ],
      "metadata": {
        "id": "5_HwfjMepMiE"
      },
      "execution_count": null,
      "outputs": []
    },
    {
      "cell_type": "code",
      "source": [
        "stemmer = SnowballStemmer(\"russian\")\n",
        "morph = MorphAnalyzer()"
      ],
      "metadata": {
        "id": "E4ym36jZmXbm"
      },
      "execution_count": null,
      "outputs": []
    },
    {
      "cell_type": "code",
      "source": [
        "stemmed_docs = []\n",
        "stem_to_lemma = defaultdict(set)\n",
        "\n",
        "for doc in docs:\n",
        "    stemmed_doc = []\n",
        "    for token in doc:\n",
        "        stem = stemmer.stem(token)\n",
        "        lemma = morph.parse(token)[0].normal_form\n",
        "        stemmed_doc.append(stem)\n",
        "        stem_to_lemma[stem].add(lemma)\n",
        "    stemmed_docs.append(stemmed_doc)"
      ],
      "metadata": {
        "id": "wH_HB1LHmc0q"
      },
      "execution_count": null,
      "outputs": []
    },
    {
      "cell_type": "code",
      "source": [
        "dictionary = Dictionary(docs)\n",
        "dictionary.filter_extremes(\n",
        "    no_below=4,\n",
        "    no_above=0.3,\n",
        "    keep_n=1000\n",
        ")"
      ],
      "metadata": {
        "id": "O6mK0Iejmfy3"
      },
      "execution_count": null,
      "outputs": []
    },
    {
      "cell_type": "markdown",
      "source": [
        "# **Тематическое моделирование**"
      ],
      "metadata": {
        "id": "bchoTxYw_iJv"
      }
    },
    {
      "cell_type": "code",
      "source": [
        "model = LdaModel(\n",
        "    corpus=[dictionary.doc2bow(doc) for doc in docs],\n",
        "    id2word=dictionary,\n",
        "    num_topics=7,\n",
        "    passes=20,\n",
        "    alpha=0.1,\n",
        "    eta=0.01,\n",
        "    random_state=42\n",
        ")"
      ],
      "metadata": {
        "id": "ALVCZ5nOmh3e"
      },
      "execution_count": null,
      "outputs": []
    },
    {
      "cell_type": "code",
      "source": [
        "for topic_id in range(model.num_topics):\n",
        "    words = [word for word, _ in model.show_topic(topic_id, 8)]\n",
        "    print(f\"Тема {topic_id+1}: {', '.join(words)}\")"
      ],
      "metadata": {
        "colab": {
          "base_uri": "https://localhost:8080/"
        },
        "id": "PQd8n4rppf4N",
        "outputId": "4e408351-8945-4a91-9d81-ab8f6e1db230"
      },
      "execution_count": null,
      "outputs": [
        {
          "output_type": "stream",
          "name": "stdout",
          "text": [
            "Тема 1: место, заявление, группа, образовательный, информация, возможность, информировать, портал\n",
            "Тема 2: портал, процесс, заявление, возможность, место, информация, образовательный, информировать\n",
            "Тема 3: возможность, образовательный, информация, портал, заявление, место, информировать, процесс\n",
            "Тема 4: информация, место, возможность, заявление, образовательный, портал, процесс, группа\n",
            "Тема 5: информировать, процесс, возможность, образовательный, заявление, место, группа, информация\n",
            "Тема 6: информация, заявление, образовательный, возможность, место, портал, процесс, группа\n",
            "Тема 7: группа, информация, место, возможность, образовательный, заявление, процесс, информировать\n"
          ]
        }
      ]
    }
  ]
}